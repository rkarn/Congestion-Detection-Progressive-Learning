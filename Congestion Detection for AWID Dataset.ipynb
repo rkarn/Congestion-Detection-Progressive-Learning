{
 "cells": [
  {
   "cell_type": "code",
   "execution_count": 1,
   "metadata": {
    "collapsed": true
   },
   "outputs": [],
   "source": [
    "import os\n",
    "os.chdir('/root/awid_dataset/')\n",
    "import pandas as pd\n",
    "import numpy as np\n",
    "import csv\n",
    "import os\n",
    "import time\n",
    "from matplotlib.pyplot import *\n",
    "import matplotlib.pyplot as plt\n",
    "import pylab\n",
    "pylab.rcParams['figure.figsize'] = (16.0, 5.0)"
   ]
  },
  {
   "cell_type": "code",
   "execution_count": 2,
   "metadata": {},
   "outputs": [
    {
     "name": "stdout",
     "output_type": "stream",
     "text": [
      "Reading training csv file.\n"
     ]
    },
    {
     "name": "stderr",
     "output_type": "stream",
     "text": [
      "/usr/local/lib/python3.5/dist-packages/IPython/core/interactiveshell.py:2728: DtypeWarning: Columns (37,38,39,40,41,42,43,44,45,47,48,49,50,51,52,53,54,55,56,57,58,59,60,61,62,74,88) have mixed types. Specify dtype option on import or set low_memory=False.\n",
      "  interactivity=interactivity, compiler=compiler, result=result)\n"
     ]
    },
    {
     "name": "stdout",
     "output_type": "stream",
     "text": [
      "Reading testing csv file.\n"
     ]
    }
   ],
   "source": [
    "# Read in the CSV files\n",
    "dataset_columns = ['frame.interface_id',\t'frame.dlt',\t'frame.offset_shift',\t'frame.time_epoch',\t'frame.time_delta',\t'frame.time_delta_displayed',\t'frame.time_relative',\t'frame.len',\t'frame.cap_len',\t'frame.marked',\t'frame.ignored',\t'radiotap.version',\t'radiotap.pad',\t'radiotap.length',\t'radiotap.present.tsft',\t'radiotap.present.flags',\t'radiotap.present.rate',\t'radiotap.present.channel',\t'radiotap.present.fhss',\t'radiotap.present.dbm_antsignal',\t'radiotap.present.dbm_antnoise',\t'radiotap.present.lock_quality',\t'radiotap.present.tx_attenuation',\t'radiotap.present.db_tx_attenuation',\t'radiotap.present.dbm_tx_power',\t'radiotap.present.antenna',\t'radiotap.present.db_antsignal',\t'radiotap.present.db_antnoise',\t'radiotap.present.rxflags',\t'radiotap.present.xchannel',\t'radiotap.present.mcs',\t'radiotap.present.ampdu',\t'radiotap.present.vht',\t'radiotap.present.reserved',\t'radiotap.present.rtap_ns',\t'radiotap.present.vendor_ns',\t'radiotap.present.ext',\t'radiotap.mactime',\t'radiotap.flags.cfp',\t'radiotap.flags.preamble',\t'radiotap.flags.wep',\t'radiotap.flags.frag',\t'radiotap.flags.fcs',\t'radiotap.flags.datapad',\t'radiotap.flags.badfcs',\t'radiotap.flags.shortgi',\t'radiotap.datarate',\t'radiotap.channel.freq',\t'radiotap.channel.type.turbo',\t'radiotap.channel.type.cck',\t'radiotap.channel.type.ofdm',\t'radiotap.channel.type.2ghz',\t'radiotap.channel.type.5ghz',\t'radiotap.channel.type.passive',\t'radiotap.channel.type.dynamic',\t'radiotap.channel.type.gfsk',\t'radiotap.channel.type.gsm',\t'radiotap.channel.type.sturbo',\t'radiotap.channel.type.half',\t'radiotap.channel.type.quarter',\t'radiotap.dbm_antsignal',\t'radiotap.antenna',\t'radiotap.rxflags.badplcp',\t'wlan.fc.type_subtype',\t'wlan.fc.version',\t'wlan.fc.type',\t'wlan.fc.subtype',\t'wlan.fc.ds',\t'wlan.fc.frag',\t'wlan.fc.retry',\t'wlan.fc.pwrmgt',\t'wlan.fc.moredata',\t'wlan.fc.protected',\t'wlan.fc.order',\t'wlan.duration',\t'wlan.ra',\t'wlan.da',\t'wlan.ta',\t'wlan.sa',\t'wlan.bssid',\t'wlan.frag',\t'wlan.seq',\t'wlan.bar.type',\t'wlan.ba.control.ackpolicy',\t'wlan.ba.control.multitid',\t'wlan.ba.control.cbitmap',\t'wlan.bar.compressed.tidinfo',\t'wlan.ba.bm',\t'wlan.fcs_good',\t'wlan_mgt.fixed.capabilities.ess',\t'wlan_mgt.fixed.capabilities.ibss',\t'wlan_mgt.fixed.capabilities.cfpoll.ap',\t'wlan_mgt.fixed.capabilities.privacy',\t'wlan_mgt.fixed.capabilities.preamble',\t'wlan_mgt.fixed.capabilities.pbcc',\t'wlan_mgt.fixed.capabilities.agility',\t'wlan_mgt.fixed.capabilities.spec_man',\t'wlan_mgt.fixed.capabilities.short_slot_time',\t'wlan_mgt.fixed.capabilities.apsd',\t'wlan_mgt.fixed.capabilities.radio_measurement',\t'wlan_mgt.fixed.capabilities.dsss_ofdm',\t'wlan_mgt.fixed.capabilities.del_blk_ack',\t'wlan_mgt.fixed.capabilities.imm_blk_ack',\t'wlan_mgt.fixed.listen_ival',\t'wlan_mgt.fixed.current_ap',\t'wlan_mgt.fixed.status_code',\t'wlan_mgt.fixed.timestamp',\t'wlan_mgt.fixed.beacon',\t'wlan_mgt.fixed.aid',\t'wlan_mgt.fixed.reason_code',\t'wlan_mgt.fixed.auth.alg',\t'wlan_mgt.fixed.auth_seq',\t'wlan_mgt.fixed.category_code',\t'wlan_mgt.fixed.htact',\t'wlan_mgt.fixed.chanwidth',\t'wlan_mgt.fixed.fragment',\t'wlan_mgt.fixed.sequence',\t'wlan_mgt.tagged.all',\t'wlan_mgt.ssid',\t'wlan_mgt.ds.current_channel',\t'wlan_mgt.tim.dtim_count',\t'wlan_mgt.tim.dtim_period',\t'wlan_mgt.tim.bmapctl.multicast',\t'wlan_mgt.tim.bmapctl.offset',\t'wlan_mgt.country_info.environment',\t'wlan_mgt.rsn.version',\t'wlan_mgt.rsn.gcs.type',\t'wlan_mgt.rsn.pcs.count',\t'wlan_mgt.rsn.akms.count',\t'wlan_mgt.rsn.akms.type',\t'wlan_mgt.rsn.capabilities.preauth',\t'wlan_mgt.rsn.capabilities.no_pairwise',\t'wlan_mgt.rsn.capabilities.ptksa_replay_counter',\t'wlan_mgt.rsn.capabilities.gtksa_replay_counter',\t'wlan_mgt.rsn.capabilities.mfpr',\t'wlan_mgt.rsn.capabilities.mfpc',\t'wlan_mgt.rsn.capabilities.peerkey',\t'wlan_mgt.tcprep.trsmt_pow',\t'wlan_mgt.tcprep.link_mrg',\t'wlan.wep.iv',\t'wlan.wep.key',\t'wlan.wep.icv',\t'wlan.tkip.extiv',\t'wlan.ccmp.extiv',\t'wlan.qos.tid',\t'wlan.qos.priority',\t'wlan.qos.eosp',\t'wlan.qos.ack',\t'wlan.qos.amsdupresent',\t'wlan.qos.buf_state_indicated',\t'wlan.qos.bit4',\t'wlan.qos.txop_dur_req',\t'wlan.qos.buf_state_indicated',\t'data.len',\t'class']\n",
    "\n",
    "print(\"Reading training csv file.\")\n",
    "df1 = pd.read_csv('awid_train_set')\n",
    "df1.columns = dataset_columns\n",
    "df1=df1.replace('?',0)\n",
    "\n",
    "df1.drop([dataset_columns[i] for i in [33, 63, 67, 75, 76, 77, 78, 79, 82, 86, 87, 91, 103, 104, 105, 106, 108, 109, 111, 113, 114,118, 123, 124, 132, 133, 139,  141, 142, 143, 147 ]], axis=1, inplace=True) \n",
    "\n",
    "print(\"Reading testing csv file.\")\n",
    "df2 = pd.read_csv('awid_test_set')\n",
    "df2.columns = dataset_columns\n",
    "df2=df2.replace('?',0)\n",
    "\n",
    "df2.drop([dataset_columns[i] for i in [33, 63, 67, 75, 76, 77, 78, 79, 82, 86, 87, 91, 103, 104, 105, 106, 108, 109, 111, 113, 114,118, 123, 124, 132, 133, 139,  141, 142, 143, 147 ]], axis=1, inplace=True)  "
   ]
  },
  {
   "cell_type": "code",
   "execution_count": 3,
   "metadata": {},
   "outputs": [
    {
     "name": "stdout",
     "output_type": "stream",
     "text": [
      "{'probe_response', 'authentication_request'} {'cts', 'chop_chop', 'power_saving', 'rts', 'hirte', 'disassociation', 'probe_request'}\n"
     ]
    }
   ],
   "source": [
    "print(set(df2['class'].unique()) - set(df1['class'].unique()), set(df1['class'].unique()) - set(df2['class'].unique()))"
   ]
  },
  {
   "cell_type": "code",
   "execution_count": 5,
   "metadata": {},
   "outputs": [
    {
     "name": "stdout",
     "output_type": "stream",
     "text": [
      "2371216 575642 1795574 2371216\n"
     ]
    }
   ],
   "source": [
    "df = pd.concat([df1, df2])\n",
    "print(len(df),len(df1),len(df2),len(df1)+len(df2))\n",
    "\n",
    "#zero_val_columns = ['frame.interface_id', 'frame.dlt', 'frame.offset_shift', 'frame.marked', 'frame.ignored', 'radiotap.version', 'radiotap.pad', 'radiotap.present.fhss', 'radiotap.present.dbm_antnoise', 'radiotap.present.lock_quality', 'radiotap.present.tx_attenuation', 'radiotap.present.db_tx_attenuation', 'radiotap.present.dbm_tx_power', 'radiotap.present.db_antsignal', 'radiotap.present.db_antnoise', 'radiotap.present.xchannel', 'radiotap.present.mcs', 'radiotap.present.ampdu', 'radiotap.present.vht', 'radiotap.present.rtap_ns', 'radiotap.present.vendor_ns', 'radiotap.present.ext', 'radiotap.flags.cfp', 'radiotap.flags.preamble', 'radiotap.flags.wep', 'radiotap.flags.frag', 'radiotap.flags.datapad', 'radiotap.flags.badfcs', 'radiotap.flags.shortgi', 'radiotap.channel.type.turbo', 'radiotap.channel.type.5ghz', 'radiotap.channel.type.passive', 'radiotap.channel.type.dynamic', 'radiotap.channel.type.gfsk', 'radiotap.channel.type.gsm', 'radiotap.channel.type.sturbo', 'radiotap.channel.type.half', 'radiotap.channel.type.quarter', 'radiotap.rxflags.badplcp', 'wlan.fc.version', 'wlan.fc.order', 'wlan.ba.control.multitid', 'wlan_mgt.fixed.fragment', 'wlan.qos.eosp', 'wlan.qos.amsdupresent', 'wlan.qos.buf_state_indicated', 'wlan.qos.bit4', 'wlan.qos.txop_dur_req']\n",
    "#for col in zero_val_columns:\n",
    "#    df.drop(col, axis=1, inplace=True)"
   ]
  },
  {
   "cell_type": "code",
   "execution_count": 6,
   "metadata": {},
   "outputs": [
    {
     "name": "stdout",
     "output_type": "stream",
     "text": [
      "17 ['normal' 'fragmentation' 'arp' 'probe_request' 'chop_chop' 'rts'\n",
      " 'deauthentication' 'amok' 'beacon' 'evil_twin' 'cafe_latte' 'cts' 'hirte'\n",
      " 'power_saving' 'disassociation' 'authentication_request' 'probe_response'] 124\n",
      "/root/pathint/fig_split_mnist\n"
     ]
    }
   ],
   "source": [
    "#max([float(i) for i in df1[dataset_columns[37]]])\n",
    "#[dataset_columns[i] for i in [71, 72, 73, 74, 86, 98, 99, 100, 101, 103, 104]]\n",
    "#dataset_columns.index(df1.columns[79])\n",
    "print (len(df['class'].unique()),df['class'].unique(),len(df.columns))\n",
    "os.chdir('/root/pathint/fig_split_mnist/')\n",
    "print(os.getcwd())"
   ]
  },
  {
   "cell_type": "code",
   "execution_count": 7,
   "metadata": {
    "scrolled": true
   },
   "outputs": [
    {
     "name": "stdout",
     "output_type": "stream",
     "text": [
      "(2371216, 123)\n",
      "Datasetset Formatting\n",
      "0\n",
      "1\n",
      "2\n",
      "3\n",
      "4\n",
      "5\n",
      "6\n",
      "7\n",
      "8\n",
      "9\n",
      "10\n",
      "11\n",
      "12\n",
      "13\n",
      "14\n",
      "15\n",
      "16\n",
      "17\n",
      "18\n",
      "19\n",
      "20\n",
      "21\n",
      "22\n",
      "23\n",
      "24\n",
      "25\n",
      "26\n",
      "27\n",
      "28\n",
      "29\n",
      "30\n",
      "31\n",
      "32\n",
      "33\n",
      "34\n",
      "35\n",
      "36\n",
      "37\n",
      "38\n",
      "39\n",
      "40\n",
      "41\n",
      "42\n",
      "43\n",
      "44\n",
      "45\n",
      "46\n",
      "47\n",
      "48\n",
      "49\n",
      "50\n",
      "51\n",
      "52\n",
      "53\n",
      "54\n",
      "55\n",
      "56\n",
      "57\n",
      "58\n",
      "59\n",
      "60\n",
      "61\n",
      "62\n",
      "63\n",
      "64\n",
      "65\n",
      "66\n",
      "67\n",
      "68\n",
      "69\n",
      "70\n",
      "71\n",
      "72\n",
      "73\n",
      "74\n",
      "75\n",
      "76\n",
      "77\n",
      "78\n",
      "79\n",
      "80\n",
      "81\n",
      "82\n",
      "83\n",
      "84\n",
      "85\n",
      "86\n",
      "87\n",
      "88\n",
      "89\n",
      "90\n",
      "91\n",
      "92\n",
      "93\n",
      "94\n",
      "95\n",
      "96\n",
      "97\n",
      "98\n",
      "99\n",
      "100\n",
      "101\n",
      "102\n",
      "103\n",
      "104\n",
      "105\n",
      "106\n",
      "107\n",
      "108\n",
      "109\n",
      "110\n",
      "111\n",
      "112\n",
      "113\n",
      "114\n",
      "115\n",
      "116\n",
      "117\n",
      "118\n",
      "119\n",
      "120\n",
      "121\n",
      "122\n"
     ]
    }
   ],
   "source": [
    "obj_df = df; \n",
    "Y_all_attacks = obj_df[\"class\"]\n",
    "#obj_df=pd.get_dummies(obj_df, columns=[\"class\"])\n",
    "\n",
    "\n",
    "X = obj_df.values[:,:-1]  #It has 17 labels \n",
    "print (X.shape)\n",
    "print(\"Datasetset Formatting\")\n",
    "\n",
    "for j in range(0,X.shape[1]):\n",
    "    maximum = max([float(k) for k in X[:,j]]) if  max([float(k) for k in X[:,j]]) != 0 else 1\n",
    "    print(j)\n",
    "    for i in range(0,len(X)):\n",
    "        X[i,j] = round(float(X[i,j])/maximum,3)\n"
   ]
  },
  {
   "cell_type": "code",
   "execution_count": 8,
   "metadata": {},
   "outputs": [
    {
     "name": "stdout",
     "output_type": "stream",
     "text": [
      "(2371216, 123)\n",
      "(1588714, 123)\n"
     ]
    }
   ],
   "source": [
    "print (X.shape)\n",
    "from sklearn.model_selection import train_test_split\n",
    "X_train, X_test, Y_train_all_attacks, Y_test_all_attacks = train_test_split(X, Y_all_attacks, test_size=0.33)\n",
    "print (X_train.shape)\n",
    "\n",
    "#['normal' 'fragmentation' 'arp' 'probe_request' 'chop_chop' 'rts' 'deauthentication' 'amok' 'beacon' 'evil_twin' 'cafe_latte' 'cts' 'hirte' 'power_saving' 'disassociation' 'authentication_request' 'probe_response']\n",
    "cleanup_nums = {\"normal\":0, \"fragmentation\":1, \"arp\":2, \"probe_request\":3, \"chop_chop\":4, \"rts\":5, \"deauthentication\":6, \"amok\":7, \"beacon\":8, \"evil_twin\":9, \"cafe_latte\":10, \"cts\":11, \"hirte\":12, \"power_saving\":13, \"disassociation\":14, \"authentication_request\":15, \"probe_response\":16}\n",
    "Y_train_all_attacks.replace(cleanup_nums,inplace=True)\n",
    "Y_test_all_attacks.replace(cleanup_nums,inplace=True)"
   ]
  },
  {
   "cell_type": "code",
   "execution_count": 9,
   "metadata": {},
   "outputs": [
    {
     "name": "stdout",
     "output_type": "stream",
     "text": [
      "Populating the interactive namespace from numpy and matplotlib\n"
     ]
    },
    {
     "name": "stderr",
     "output_type": "stream",
     "text": [
      "/usr/local/lib/python3.5/dist-packages/IPython/core/magics/pylab.py:160: UserWarning: pylab import has clobbered these variables: ['maximum', 'pylab']\n",
      "`%matplotlib` prevents importing * from pylab and numpy\n",
      "  \"\\n`%matplotlib` prevents importing * from pylab and numpy\"\n",
      "/usr/local/lib/python3.5/dist-packages/h5py/__init__.py:36: FutureWarning: Conversion of the second argument of issubdtype from `float` to `np.floating` is deprecated. In future, it will be treated as `np.float64 == np.dtype(float).type`.\n",
      "  from ._conv import register_converters as _register_converters\n",
      "Using TensorFlow backend.\n"
     ]
    }
   ],
   "source": [
    "%load_ext autoreload\n",
    "%autoreload 2\n",
    "%pylab inline\n",
    "\n",
    "import tensorflow as tf\n",
    "slim = tf.contrib.slim\n",
    "graph_replace = tf.contrib.graph_editor.graph_replace\n",
    "\n",
    "import sys, os\n",
    "sys.path.extend([os.path.expanduser('..')])\n",
    "from pathint import utils\n",
    "import seaborn as sns\n",
    "sns.set_style(\"ticks\")\n",
    "\n",
    "from tqdm import trange, tqdm\n",
    "\n",
    "# import operator\n",
    "import matplotlib.colors as colors\n",
    "import matplotlib.cm as cmx\n",
    "\n",
    "rcParams['pdf.fonttype'] = 42\n",
    "rcParams['ps.fonttype'] = 42\n",
    "\n",
    "select = tf.select if hasattr(tf, 'select') else tf.where"
   ]
  },
  {
   "cell_type": "code",
   "execution_count": 10,
   "metadata": {
    "collapsed": true
   },
   "outputs": [],
   "source": [
    "# Data params\n",
    "input_dim = 123\n",
    "output_dim = 17\n",
    "\n",
    "# Network params\n",
    "n_hidden_units = 20\n",
    "activation_fn = tf.nn.relu\n",
    "\n",
    "# Optimization params\n",
    "batch_size = 64\n",
    "epochs_per_task = 10\n",
    "\n",
    "n_stats = 1\n",
    "\n",
    "# Reset optimizer after each age\n",
    "reset_optimizer = True"
   ]
  },
  {
   "cell_type": "code",
   "execution_count": 11,
   "metadata": {
    "collapsed": true
   },
   "outputs": [],
   "source": [
    "from keras.utils import np_utils\n",
    "\n",
    "#task_labels = [[8,1],[5,3],[4,9], [11,7], [6,2], [0,10], [14,2],[12,13]]\n",
    "task_labels = [[0,1],[2,3],[4,5],[6,7],[8,9],[10,11],[12,13],[14,15],[16,1]]\n",
    "#task_labels = [[0,1],[2,3],[4,5],[6,7],[8,9],[10,11],[12,13],[14,15],[16,2],[5,9],[10,3],[12,6],[14,2]]\n",
    "#task_labels = [[0,9], [7,8], [3,6], [1,4], [2,5]]\n",
    "#task_labels = [[0,1,2], [3,4,5], [6,7,8],[9,10,11],[12,13,14],[15,16]]\n",
    "#task_labels = [[1,5,8],[2,5,7,9],[3,4,6]]\n",
    "n_tasks = len(task_labels)\n",
    "nb_classes  = 17\n",
    "training_datasets = []\n",
    "validation_datasets = []\n",
    "multihead=False\n",
    "\n",
    "for labels in task_labels:\n",
    "    idx = np.in1d(Y_train_all_attacks, labels)\n",
    "    if multihead:\n",
    "        label_map = np.arange(nb_classes)\n",
    "        label_map[labels] = np.arange(len(labels))\n",
    "        data = X_train[idx], np_utils.to_categorical(label_map[Y_train_all_attacks[idx]], len(labels))\n",
    "    else:\n",
    "        data = X_train[idx], np_utils.to_categorical(Y_train_all_attacks[idx], nb_classes)\n",
    "        training_datasets.append(data)\n",
    "\n",
    "for labels in task_labels:\n",
    "    idx = np.in1d(Y_test_all_attacks, labels)\n",
    "    if multihead:\n",
    "        label_map = np.arange(nb_classes)\n",
    "        label_map[labels] = np.arange(len(labels))\n",
    "        data = X_test[idx], np_utils.to_categorical(label_map[Y_test_all_attacks[idx]], len(labels))\n",
    "    else:\n",
    "        data = X_test[idx], np_utils.to_categorical(Y_test_all_attacks[idx], nb_classes)\n",
    "        validation_datasets.append(data)"
   ]
  },
  {
   "cell_type": "code",
   "execution_count": 12,
   "metadata": {},
   "outputs": [
    {
     "name": "stdout",
     "output_type": "stream",
     "text": [
      "Task: 0 (1450552, 123)\n",
      "Zero columns:  62\n",
      "They are:  ['frame.interface_id', 'frame.dlt', 'frame.offset_shift', 'frame.marked', 'frame.ignored', 'radiotap.version', 'radiotap.pad', 'radiotap.present.fhss', 'radiotap.present.dbm_antnoise', 'radiotap.present.lock_quality', 'radiotap.present.tx_attenuation', 'radiotap.present.db_tx_attenuation', 'radiotap.present.dbm_tx_power', 'radiotap.present.db_antsignal', 'radiotap.present.db_antnoise', 'radiotap.present.xchannel', 'radiotap.present.mcs', 'radiotap.present.ampdu', 'radiotap.present.vht', 'radiotap.present.rtap_ns', 'radiotap.present.vendor_ns', 'radiotap.present.ext', 'radiotap.flags.cfp', 'radiotap.flags.preamble', 'radiotap.flags.wep', 'radiotap.flags.frag', 'radiotap.flags.datapad', 'radiotap.flags.badfcs', 'radiotap.flags.shortgi', 'radiotap.channel.type.turbo', 'radiotap.channel.type.5ghz', 'radiotap.channel.type.passive', 'radiotap.channel.type.dynamic', 'radiotap.channel.type.gfsk', 'radiotap.channel.type.gsm', 'radiotap.channel.type.sturbo', 'radiotap.channel.type.half', 'radiotap.channel.type.quarter', 'radiotap.rxflags.badplcp', 'wlan.fc.version', 'wlan.fc.order', 'wlan.ba.control.multitid', 'wlan_mgt.fixed.capabilities.ibss', 'wlan_mgt.fixed.capabilities.agility', 'wlan_mgt.fixed.capabilities.dsss_ofdm', 'wlan_mgt.fixed.capabilities.del_blk_ack', 'wlan_mgt.fixed.capabilities.imm_blk_ack', 'wlan_mgt.fixed.fragment', 'wlan_mgt.rsn.version', 'wlan_mgt.rsn.pcs.count', 'wlan_mgt.rsn.akms.count', 'wlan_mgt.rsn.capabilities.no_pairwise', 'wlan_mgt.rsn.capabilities.mfpr', 'wlan_mgt.rsn.capabilities.mfpc', 'wlan_mgt.rsn.capabilities.peerkey', 'wlan_mgt.tcprep.link_mrg', 'wlan.qos.eosp', 'wlan.qos.amsdupresent', 'wlan.qos.buf_state_indicated', 'wlan.qos.bit4', 'wlan.qos.txop_dur_req', 'wlan.qos.buf_state_indicated']\n",
      "Constant columns:  2\n",
      "They are:  ['frame.time_epoch', 'radiotap.present.rate']\n",
      "------------------------------------\n",
      "Task: 1 (52763, 123)\n",
      "Zero columns:  91\n",
      "They are:  ['frame.interface_id', 'frame.dlt', 'frame.offset_shift', 'frame.marked', 'frame.ignored', 'radiotap.version', 'radiotap.pad', 'radiotap.present.fhss', 'radiotap.present.dbm_antnoise', 'radiotap.present.lock_quality', 'radiotap.present.tx_attenuation', 'radiotap.present.db_tx_attenuation', 'radiotap.present.dbm_tx_power', 'radiotap.present.db_antsignal', 'radiotap.present.db_antnoise', 'radiotap.present.xchannel', 'radiotap.present.mcs', 'radiotap.present.ampdu', 'radiotap.present.vht', 'radiotap.present.rtap_ns', 'radiotap.present.vendor_ns', 'radiotap.present.ext', 'radiotap.flags.cfp', 'radiotap.flags.preamble', 'radiotap.flags.wep', 'radiotap.flags.frag', 'radiotap.flags.datapad', 'radiotap.flags.badfcs', 'radiotap.flags.shortgi', 'radiotap.channel.type.turbo', 'radiotap.channel.type.ofdm', 'radiotap.channel.type.5ghz', 'radiotap.channel.type.passive', 'radiotap.channel.type.dynamic', 'radiotap.channel.type.gfsk', 'radiotap.channel.type.gsm', 'radiotap.channel.type.sturbo', 'radiotap.channel.type.half', 'radiotap.channel.type.quarter', 'radiotap.rxflags.badplcp', 'wlan.fc.version', 'wlan.fc.frag', 'wlan.fc.retry', 'wlan.fc.pwrmgt', 'wlan.fc.moredata', 'wlan.fc.order', 'wlan.ba.control.ackpolicy', 'wlan.ba.control.multitid', 'wlan.ba.control.cbitmap', 'wlan_mgt.fixed.capabilities.ess', 'wlan_mgt.fixed.capabilities.ibss', 'wlan_mgt.fixed.capabilities.privacy', 'wlan_mgt.fixed.capabilities.preamble', 'wlan_mgt.fixed.capabilities.pbcc', 'wlan_mgt.fixed.capabilities.agility', 'wlan_mgt.fixed.capabilities.spec_man', 'wlan_mgt.fixed.capabilities.short_slot_time', 'wlan_mgt.fixed.capabilities.apsd', 'wlan_mgt.fixed.capabilities.radio_measurement', 'wlan_mgt.fixed.capabilities.dsss_ofdm', 'wlan_mgt.fixed.capabilities.del_blk_ack', 'wlan_mgt.fixed.capabilities.imm_blk_ack', 'wlan_mgt.fixed.beacon', 'wlan_mgt.fixed.auth.alg', 'wlan_mgt.fixed.category_code', 'wlan_mgt.fixed.fragment', 'wlan_mgt.fixed.sequence', 'wlan_mgt.tim.dtim_count', 'wlan_mgt.tim.dtim_period', 'wlan_mgt.tim.bmapctl.multicast', 'wlan_mgt.rsn.version', 'wlan_mgt.rsn.gcs.type', 'wlan_mgt.rsn.pcs.count', 'wlan_mgt.rsn.akms.count', 'wlan_mgt.rsn.akms.type', 'wlan_mgt.rsn.capabilities.preauth', 'wlan_mgt.rsn.capabilities.no_pairwise', 'wlan_mgt.rsn.capabilities.mfpr', 'wlan_mgt.rsn.capabilities.mfpc', 'wlan_mgt.rsn.capabilities.peerkey', 'wlan_mgt.tcprep.trsmt_pow', 'wlan_mgt.tcprep.link_mrg', 'wlan.wep.key', 'wlan.qos.tid', 'wlan.qos.priority', 'wlan.qos.eosp', 'wlan.qos.amsdupresent', 'wlan.qos.buf_state_indicated', 'wlan.qos.bit4', 'wlan.qos.txop_dur_req', 'wlan.qos.buf_state_indicated']\n",
      "Constant columns:  15\n",
      "They are:  ['frame.time_epoch', 'radiotap.length', 'radiotap.present.tsft', 'radiotap.present.flags', 'radiotap.present.rate', 'radiotap.present.channel', 'radiotap.present.dbm_antsignal', 'radiotap.present.antenna', 'radiotap.present.rxflags', 'radiotap.flags.fcs', 'radiotap.datarate', 'radiotap.channel.type.cck', 'radiotap.channel.type.2ghz', 'radiotap.antenna', 'wlan.fcs_good']\n",
      "------------------------------------\n",
      "Task: 2 (2063, 123)\n",
      "Zero columns:  93\n",
      "They are:  ['frame.interface_id', 'frame.dlt', 'frame.offset_shift', 'frame.marked', 'frame.ignored', 'radiotap.version', 'radiotap.pad', 'radiotap.present.fhss', 'radiotap.present.dbm_antnoise', 'radiotap.present.lock_quality', 'radiotap.present.tx_attenuation', 'radiotap.present.db_tx_attenuation', 'radiotap.present.dbm_tx_power', 'radiotap.present.db_antsignal', 'radiotap.present.db_antnoise', 'radiotap.present.xchannel', 'radiotap.present.mcs', 'radiotap.present.ampdu', 'radiotap.present.vht', 'radiotap.present.rtap_ns', 'radiotap.present.vendor_ns', 'radiotap.present.ext', 'radiotap.flags.cfp', 'radiotap.flags.preamble', 'radiotap.flags.wep', 'radiotap.flags.frag', 'radiotap.flags.datapad', 'radiotap.flags.badfcs', 'radiotap.flags.shortgi', 'radiotap.channel.type.turbo', 'radiotap.channel.type.5ghz', 'radiotap.channel.type.passive', 'radiotap.channel.type.dynamic', 'radiotap.channel.type.gfsk', 'radiotap.channel.type.gsm', 'radiotap.channel.type.sturbo', 'radiotap.channel.type.half', 'radiotap.channel.type.quarter', 'radiotap.rxflags.badplcp', 'wlan.fc.version', 'wlan.fc.frag', 'wlan.fc.retry', 'wlan.fc.pwrmgt', 'wlan.fc.moredata', 'wlan.fc.order', 'wlan.frag', 'wlan.ba.control.ackpolicy', 'wlan.ba.control.multitid', 'wlan.ba.control.cbitmap', 'wlan_mgt.fixed.capabilities.ess', 'wlan_mgt.fixed.capabilities.ibss', 'wlan_mgt.fixed.capabilities.privacy', 'wlan_mgt.fixed.capabilities.preamble', 'wlan_mgt.fixed.capabilities.pbcc', 'wlan_mgt.fixed.capabilities.agility', 'wlan_mgt.fixed.capabilities.spec_man', 'wlan_mgt.fixed.capabilities.short_slot_time', 'wlan_mgt.fixed.capabilities.apsd', 'wlan_mgt.fixed.capabilities.radio_measurement', 'wlan_mgt.fixed.capabilities.dsss_ofdm', 'wlan_mgt.fixed.capabilities.del_blk_ack', 'wlan_mgt.fixed.capabilities.imm_blk_ack', 'wlan_mgt.fixed.beacon', 'wlan_mgt.fixed.auth.alg', 'wlan_mgt.fixed.category_code', 'wlan_mgt.fixed.fragment', 'wlan_mgt.fixed.sequence', 'wlan_mgt.tagged.all', 'wlan_mgt.ds.current_channel', 'wlan_mgt.tim.dtim_count', 'wlan_mgt.tim.dtim_period', 'wlan_mgt.tim.bmapctl.multicast', 'wlan_mgt.rsn.version', 'wlan_mgt.rsn.gcs.type', 'wlan_mgt.rsn.pcs.count', 'wlan_mgt.rsn.akms.count', 'wlan_mgt.rsn.akms.type', 'wlan_mgt.rsn.capabilities.preauth', 'wlan_mgt.rsn.capabilities.no_pairwise', 'wlan_mgt.rsn.capabilities.mfpr', 'wlan_mgt.rsn.capabilities.mfpc', 'wlan_mgt.rsn.capabilities.peerkey', 'wlan_mgt.tcprep.trsmt_pow', 'wlan_mgt.tcprep.link_mrg', 'wlan.wep.key', 'wlan.qos.tid', 'wlan.qos.priority', 'wlan.qos.eosp', 'wlan.qos.amsdupresent', 'wlan.qos.buf_state_indicated', 'wlan.qos.bit4', 'wlan.qos.txop_dur_req', 'wlan.qos.buf_state_indicated']\n",
      "Constant columns:  13\n",
      "They are:  ['frame.time_epoch', 'radiotap.length', 'radiotap.present.tsft', 'radiotap.present.flags', 'radiotap.present.rate', 'radiotap.present.channel', 'radiotap.present.dbm_antsignal', 'radiotap.present.antenna', 'radiotap.present.rxflags', 'radiotap.flags.fcs', 'radiotap.channel.type.2ghz', 'radiotap.antenna', 'wlan.fcs_good']\n",
      "------------------------------------\n",
      "Task: 3 (31164, 123)\n",
      "Zero columns:  97\n",
      "They are:  ['frame.interface_id', 'frame.dlt', 'frame.offset_shift', 'frame.marked', 'frame.ignored', 'radiotap.version', 'radiotap.pad', 'radiotap.present.fhss', 'radiotap.present.dbm_antnoise', 'radiotap.present.lock_quality', 'radiotap.present.tx_attenuation', 'radiotap.present.db_tx_attenuation', 'radiotap.present.dbm_tx_power', 'radiotap.present.db_antsignal', 'radiotap.present.db_antnoise', 'radiotap.present.xchannel', 'radiotap.present.mcs', 'radiotap.present.ampdu', 'radiotap.present.vht', 'radiotap.present.rtap_ns', 'radiotap.present.vendor_ns', 'radiotap.present.ext', 'radiotap.flags.cfp', 'radiotap.flags.preamble', 'radiotap.flags.wep', 'radiotap.flags.frag', 'radiotap.flags.datapad', 'radiotap.flags.badfcs', 'radiotap.flags.shortgi', 'radiotap.channel.type.turbo', 'radiotap.channel.type.ofdm', 'radiotap.channel.type.5ghz', 'radiotap.channel.type.passive', 'radiotap.channel.type.dynamic', 'radiotap.channel.type.gfsk', 'radiotap.channel.type.gsm', 'radiotap.channel.type.sturbo', 'radiotap.channel.type.half', 'radiotap.channel.type.quarter', 'radiotap.rxflags.badplcp', 'wlan.fc.version', 'wlan.fc.type', 'wlan.fc.frag', 'wlan.fc.retry', 'wlan.fc.pwrmgt', 'wlan.fc.moredata', 'wlan.fc.protected', 'wlan.fc.order', 'wlan.frag', 'wlan.ba.control.ackpolicy', 'wlan.ba.control.multitid', 'wlan.ba.control.cbitmap', 'wlan_mgt.fixed.capabilities.ess', 'wlan_mgt.fixed.capabilities.ibss', 'wlan_mgt.fixed.capabilities.privacy', 'wlan_mgt.fixed.capabilities.preamble', 'wlan_mgt.fixed.capabilities.pbcc', 'wlan_mgt.fixed.capabilities.agility', 'wlan_mgt.fixed.capabilities.spec_man', 'wlan_mgt.fixed.capabilities.short_slot_time', 'wlan_mgt.fixed.capabilities.apsd', 'wlan_mgt.fixed.capabilities.radio_measurement', 'wlan_mgt.fixed.capabilities.dsss_ofdm', 'wlan_mgt.fixed.capabilities.del_blk_ack', 'wlan_mgt.fixed.capabilities.imm_blk_ack', 'wlan_mgt.fixed.beacon', 'wlan_mgt.fixed.auth.alg', 'wlan_mgt.fixed.category_code', 'wlan_mgt.fixed.fragment', 'wlan_mgt.fixed.sequence', 'wlan_mgt.tagged.all', 'wlan_mgt.ds.current_channel', 'wlan_mgt.tim.dtim_count', 'wlan_mgt.tim.dtim_period', 'wlan_mgt.tim.bmapctl.multicast', 'wlan_mgt.rsn.version', 'wlan_mgt.rsn.gcs.type', 'wlan_mgt.rsn.pcs.count', 'wlan_mgt.rsn.akms.count', 'wlan_mgt.rsn.akms.type', 'wlan_mgt.rsn.capabilities.preauth', 'wlan_mgt.rsn.capabilities.no_pairwise', 'wlan_mgt.rsn.capabilities.mfpr', 'wlan_mgt.rsn.capabilities.mfpc', 'wlan_mgt.rsn.capabilities.peerkey', 'wlan_mgt.tcprep.trsmt_pow', 'wlan_mgt.tcprep.link_mrg', 'wlan.wep.key', 'wlan.qos.tid', 'wlan.qos.priority', 'wlan.qos.eosp', 'wlan.qos.amsdupresent', 'wlan.qos.buf_state_indicated', 'wlan.qos.bit4', 'wlan.qos.txop_dur_req', 'wlan.qos.buf_state_indicated', 'data.len']\n",
      "Constant columns:  17\n",
      "They are:  ['frame.time_epoch', 'frame.len', 'frame.cap_len', 'radiotap.length', 'radiotap.present.tsft', 'radiotap.present.flags', 'radiotap.present.rate', 'radiotap.present.channel', 'radiotap.present.dbm_antsignal', 'radiotap.present.antenna', 'radiotap.present.rxflags', 'radiotap.flags.fcs', 'radiotap.datarate', 'radiotap.channel.type.cck', 'radiotap.channel.type.2ghz', 'radiotap.antenna', 'wlan.fcs_good']\n",
      "------------------------------------\n",
      "Task: 4 (3789, 123)\n",
      "Zero columns:  86\n",
      "They are:  ['frame.interface_id', 'frame.dlt', 'frame.offset_shift', 'frame.marked', 'frame.ignored', 'radiotap.version', 'radiotap.pad', 'radiotap.present.fhss', 'radiotap.present.dbm_antnoise', 'radiotap.present.lock_quality', 'radiotap.present.tx_attenuation', 'radiotap.present.db_tx_attenuation', 'radiotap.present.dbm_tx_power', 'radiotap.present.db_antsignal', 'radiotap.present.db_antnoise', 'radiotap.present.xchannel', 'radiotap.present.mcs', 'radiotap.present.ampdu', 'radiotap.present.vht', 'radiotap.present.rtap_ns', 'radiotap.present.vendor_ns', 'radiotap.present.ext', 'radiotap.flags.cfp', 'radiotap.flags.preamble', 'radiotap.flags.wep', 'radiotap.flags.frag', 'radiotap.flags.datapad', 'radiotap.flags.badfcs', 'radiotap.flags.shortgi', 'radiotap.channel.type.turbo', 'radiotap.channel.type.ofdm', 'radiotap.channel.type.5ghz', 'radiotap.channel.type.passive', 'radiotap.channel.type.dynamic', 'radiotap.channel.type.gfsk', 'radiotap.channel.type.gsm', 'radiotap.channel.type.sturbo', 'radiotap.channel.type.half', 'radiotap.channel.type.quarter', 'radiotap.rxflags.badplcp', 'wlan.fc.version', 'wlan.fc.type', 'wlan.fc.frag', 'wlan.fc.moredata', 'wlan.fc.protected', 'wlan.fc.order', 'wlan.frag', 'wlan.ba.control.ackpolicy', 'wlan.ba.control.multitid', 'wlan.ba.control.cbitmap', 'wlan_mgt.fixed.capabilities.ibss', 'wlan_mgt.fixed.capabilities.pbcc', 'wlan_mgt.fixed.capabilities.agility', 'wlan_mgt.fixed.capabilities.spec_man', 'wlan_mgt.fixed.capabilities.apsd', 'wlan_mgt.fixed.capabilities.radio_measurement', 'wlan_mgt.fixed.capabilities.dsss_ofdm', 'wlan_mgt.fixed.capabilities.del_blk_ack', 'wlan_mgt.fixed.capabilities.imm_blk_ack', 'wlan_mgt.fixed.category_code', 'wlan_mgt.fixed.fragment', 'wlan_mgt.fixed.sequence', 'wlan_mgt.tim.dtim_count', 'wlan_mgt.tim.bmapctl.multicast', 'wlan_mgt.rsn.version', 'wlan_mgt.rsn.gcs.type', 'wlan_mgt.rsn.pcs.count', 'wlan_mgt.rsn.akms.count', 'wlan_mgt.rsn.akms.type', 'wlan_mgt.rsn.capabilities.preauth', 'wlan_mgt.rsn.capabilities.no_pairwise', 'wlan_mgt.rsn.capabilities.mfpr', 'wlan_mgt.rsn.capabilities.mfpc', 'wlan_mgt.rsn.capabilities.peerkey', 'wlan_mgt.tcprep.trsmt_pow', 'wlan_mgt.tcprep.link_mrg', 'wlan.wep.key', 'wlan.qos.tid', 'wlan.qos.priority', 'wlan.qos.eosp', 'wlan.qos.amsdupresent', 'wlan.qos.buf_state_indicated', 'wlan.qos.bit4', 'wlan.qos.txop_dur_req', 'wlan.qos.buf_state_indicated', 'data.len']\n",
      "Constant columns:  15\n",
      "They are:  ['frame.time_epoch', 'radiotap.length', 'radiotap.present.tsft', 'radiotap.present.flags', 'radiotap.present.rate', 'radiotap.present.channel', 'radiotap.present.dbm_antsignal', 'radiotap.present.antenna', 'radiotap.present.rxflags', 'radiotap.flags.fcs', 'radiotap.datarate', 'radiotap.channel.type.cck', 'radiotap.channel.type.2ghz', 'radiotap.antenna', 'wlan.fcs_good']\n",
      "------------------------------------\n",
      "Task: 5 (31936, 123)\n"
     ]
    },
    {
     "name": "stdout",
     "output_type": "stream",
     "text": [
      "Zero columns:  82\n",
      "They are:  ['frame.interface_id', 'frame.dlt', 'frame.offset_shift', 'frame.marked', 'frame.ignored', 'radiotap.version', 'radiotap.pad', 'radiotap.present.fhss', 'radiotap.present.dbm_antnoise', 'radiotap.present.lock_quality', 'radiotap.present.tx_attenuation', 'radiotap.present.db_tx_attenuation', 'radiotap.present.dbm_tx_power', 'radiotap.present.db_antsignal', 'radiotap.present.db_antnoise', 'radiotap.present.xchannel', 'radiotap.present.mcs', 'radiotap.present.ampdu', 'radiotap.present.vht', 'radiotap.present.rtap_ns', 'radiotap.present.vendor_ns', 'radiotap.present.ext', 'radiotap.flags.cfp', 'radiotap.flags.preamble', 'radiotap.flags.wep', 'radiotap.flags.frag', 'radiotap.flags.datapad', 'radiotap.flags.badfcs', 'radiotap.flags.shortgi', 'radiotap.channel.type.turbo', 'radiotap.channel.type.5ghz', 'radiotap.channel.type.passive', 'radiotap.channel.type.dynamic', 'radiotap.channel.type.gfsk', 'radiotap.channel.type.gsm', 'radiotap.channel.type.sturbo', 'radiotap.channel.type.half', 'radiotap.channel.type.quarter', 'radiotap.rxflags.badplcp', 'wlan.fc.version', 'wlan.fc.frag', 'wlan.fc.order', 'wlan.frag', 'wlan.ba.control.ackpolicy', 'wlan.ba.control.multitid', 'wlan.ba.control.cbitmap', 'wlan_mgt.fixed.capabilities.ibss', 'wlan_mgt.fixed.capabilities.pbcc', 'wlan_mgt.fixed.capabilities.agility', 'wlan_mgt.fixed.capabilities.spec_man', 'wlan_mgt.fixed.capabilities.apsd', 'wlan_mgt.fixed.capabilities.radio_measurement', 'wlan_mgt.fixed.capabilities.dsss_ofdm', 'wlan_mgt.fixed.capabilities.del_blk_ack', 'wlan_mgt.fixed.capabilities.imm_blk_ack', 'wlan_mgt.fixed.category_code', 'wlan_mgt.fixed.fragment', 'wlan_mgt.fixed.sequence', 'wlan_mgt.tim.dtim_count', 'wlan_mgt.tim.dtim_period', 'wlan_mgt.tim.bmapctl.multicast', 'wlan_mgt.rsn.version', 'wlan_mgt.rsn.gcs.type', 'wlan_mgt.rsn.pcs.count', 'wlan_mgt.rsn.akms.count', 'wlan_mgt.rsn.akms.type', 'wlan_mgt.rsn.capabilities.preauth', 'wlan_mgt.rsn.capabilities.no_pairwise', 'wlan_mgt.rsn.capabilities.mfpr', 'wlan_mgt.rsn.capabilities.mfpc', 'wlan_mgt.rsn.capabilities.peerkey', 'wlan_mgt.tcprep.trsmt_pow', 'wlan_mgt.tcprep.link_mrg', 'wlan.wep.key', 'wlan.qos.tid', 'wlan.qos.priority', 'wlan.qos.eosp', 'wlan.qos.amsdupresent', 'wlan.qos.buf_state_indicated', 'wlan.qos.bit4', 'wlan.qos.txop_dur_req', 'wlan.qos.buf_state_indicated']\n",
      "Constant columns:  13\n",
      "They are:  ['frame.time_epoch', 'radiotap.length', 'radiotap.present.tsft', 'radiotap.present.flags', 'radiotap.present.rate', 'radiotap.present.channel', 'radiotap.present.dbm_antsignal', 'radiotap.present.antenna', 'radiotap.present.rxflags', 'radiotap.flags.fcs', 'radiotap.channel.type.2ghz', 'radiotap.antenna', 'wlan.fcs_good']\n",
      "------------------------------------\n",
      "Task: 6 (13015, 123)\n",
      "Zero columns:  82\n",
      "They are:  ['frame.interface_id', 'frame.dlt', 'frame.offset_shift', 'frame.marked', 'frame.ignored', 'radiotap.version', 'radiotap.pad', 'radiotap.present.fhss', 'radiotap.present.dbm_antnoise', 'radiotap.present.lock_quality', 'radiotap.present.tx_attenuation', 'radiotap.present.db_tx_attenuation', 'radiotap.present.dbm_tx_power', 'radiotap.present.db_antsignal', 'radiotap.present.db_antnoise', 'radiotap.present.xchannel', 'radiotap.present.mcs', 'radiotap.present.ampdu', 'radiotap.present.vht', 'radiotap.present.rtap_ns', 'radiotap.present.vendor_ns', 'radiotap.present.ext', 'radiotap.flags.cfp', 'radiotap.flags.preamble', 'radiotap.flags.wep', 'radiotap.flags.frag', 'radiotap.flags.datapad', 'radiotap.flags.badfcs', 'radiotap.flags.shortgi', 'radiotap.channel.type.turbo', 'radiotap.channel.type.ofdm', 'radiotap.channel.type.5ghz', 'radiotap.channel.type.passive', 'radiotap.channel.type.dynamic', 'radiotap.channel.type.gfsk', 'radiotap.channel.type.gsm', 'radiotap.channel.type.sturbo', 'radiotap.channel.type.half', 'radiotap.channel.type.quarter', 'radiotap.rxflags.badplcp', 'wlan.fc.version', 'wlan.fc.retry', 'wlan.fc.moredata', 'wlan.fc.order', 'wlan.ba.control.ackpolicy', 'wlan.ba.control.multitid', 'wlan.ba.control.cbitmap', 'wlan_mgt.fixed.capabilities.ibss', 'wlan_mgt.fixed.capabilities.pbcc', 'wlan_mgt.fixed.capabilities.agility', 'wlan_mgt.fixed.capabilities.spec_man', 'wlan_mgt.fixed.capabilities.apsd', 'wlan_mgt.fixed.capabilities.radio_measurement', 'wlan_mgt.fixed.capabilities.dsss_ofdm', 'wlan_mgt.fixed.capabilities.del_blk_ack', 'wlan_mgt.fixed.capabilities.imm_blk_ack', 'wlan_mgt.fixed.category_code', 'wlan_mgt.fixed.fragment', 'wlan_mgt.fixed.sequence', 'wlan_mgt.tim.dtim_count', 'wlan_mgt.tim.dtim_period', 'wlan_mgt.tim.bmapctl.multicast', 'wlan_mgt.rsn.version', 'wlan_mgt.rsn.gcs.type', 'wlan_mgt.rsn.pcs.count', 'wlan_mgt.rsn.akms.count', 'wlan_mgt.rsn.akms.type', 'wlan_mgt.rsn.capabilities.preauth', 'wlan_mgt.rsn.capabilities.no_pairwise', 'wlan_mgt.rsn.capabilities.mfpr', 'wlan_mgt.rsn.capabilities.mfpc', 'wlan_mgt.rsn.capabilities.peerkey', 'wlan_mgt.tcprep.trsmt_pow', 'wlan_mgt.tcprep.link_mrg', 'wlan.qos.tid', 'wlan.qos.priority', 'wlan.qos.eosp', 'wlan.qos.amsdupresent', 'wlan.qos.buf_state_indicated', 'wlan.qos.bit4', 'wlan.qos.txop_dur_req', 'wlan.qos.buf_state_indicated']\n",
      "Constant columns:  15\n",
      "They are:  ['frame.time_epoch', 'radiotap.length', 'radiotap.present.tsft', 'radiotap.present.flags', 'radiotap.present.rate', 'radiotap.present.channel', 'radiotap.present.dbm_antsignal', 'radiotap.present.antenna', 'radiotap.present.rxflags', 'radiotap.flags.fcs', 'radiotap.datarate', 'radiotap.channel.type.cck', 'radiotap.channel.type.2ghz', 'radiotap.antenna', 'wlan.fcs_good']\n",
      "------------------------------------\n",
      "Task: 7 (2385, 123)\n",
      "Zero columns:  93\n",
      "They are:  ['frame.interface_id', 'frame.dlt', 'frame.offset_shift', 'frame.marked', 'frame.ignored', 'radiotap.version', 'radiotap.pad', 'radiotap.present.fhss', 'radiotap.present.dbm_antnoise', 'radiotap.present.lock_quality', 'radiotap.present.tx_attenuation', 'radiotap.present.db_tx_attenuation', 'radiotap.present.dbm_tx_power', 'radiotap.present.db_antsignal', 'radiotap.present.db_antnoise', 'radiotap.present.xchannel', 'radiotap.present.mcs', 'radiotap.present.ampdu', 'radiotap.present.vht', 'radiotap.present.rtap_ns', 'radiotap.present.vendor_ns', 'radiotap.present.ext', 'radiotap.flags.cfp', 'radiotap.flags.preamble', 'radiotap.flags.wep', 'radiotap.flags.frag', 'radiotap.flags.datapad', 'radiotap.flags.badfcs', 'radiotap.flags.shortgi', 'radiotap.channel.type.turbo', 'radiotap.channel.type.ofdm', 'radiotap.channel.type.5ghz', 'radiotap.channel.type.passive', 'radiotap.channel.type.dynamic', 'radiotap.channel.type.gfsk', 'radiotap.channel.type.gsm', 'radiotap.channel.type.sturbo', 'radiotap.channel.type.half', 'radiotap.channel.type.quarter', 'radiotap.rxflags.badplcp', 'wlan.fc.version', 'wlan.fc.type', 'wlan.fc.frag', 'wlan.fc.retry', 'wlan.fc.pwrmgt', 'wlan.fc.moredata', 'wlan.fc.protected', 'wlan.fc.order', 'wlan.frag', 'wlan.ba.control.ackpolicy', 'wlan.ba.control.multitid', 'wlan.ba.control.cbitmap', 'wlan_mgt.fixed.capabilities.ibss', 'wlan_mgt.fixed.capabilities.preamble', 'wlan_mgt.fixed.capabilities.pbcc', 'wlan_mgt.fixed.capabilities.agility', 'wlan_mgt.fixed.capabilities.spec_man', 'wlan_mgt.fixed.capabilities.apsd', 'wlan_mgt.fixed.capabilities.radio_measurement', 'wlan_mgt.fixed.capabilities.dsss_ofdm', 'wlan_mgt.fixed.capabilities.del_blk_ack', 'wlan_mgt.fixed.capabilities.imm_blk_ack', 'wlan_mgt.fixed.beacon', 'wlan_mgt.fixed.auth.alg', 'wlan_mgt.fixed.category_code', 'wlan_mgt.fixed.fragment', 'wlan_mgt.fixed.sequence', 'wlan_mgt.ds.current_channel', 'wlan_mgt.tim.dtim_count', 'wlan_mgt.tim.dtim_period', 'wlan_mgt.tim.bmapctl.multicast', 'wlan_mgt.rsn.version', 'wlan_mgt.rsn.gcs.type', 'wlan_mgt.rsn.pcs.count', 'wlan_mgt.rsn.akms.count', 'wlan_mgt.rsn.akms.type', 'wlan_mgt.rsn.capabilities.preauth', 'wlan_mgt.rsn.capabilities.no_pairwise', 'wlan_mgt.rsn.capabilities.mfpr', 'wlan_mgt.rsn.capabilities.mfpc', 'wlan_mgt.rsn.capabilities.peerkey', 'wlan_mgt.tcprep.trsmt_pow', 'wlan_mgt.tcprep.link_mrg', 'wlan.wep.key', 'wlan.qos.tid', 'wlan.qos.priority', 'wlan.qos.eosp', 'wlan.qos.amsdupresent', 'wlan.qos.buf_state_indicated', 'wlan.qos.bit4', 'wlan.qos.txop_dur_req', 'wlan.qos.buf_state_indicated', 'data.len']\n",
      "Constant columns:  17\n",
      "They are:  ['frame.time_epoch', 'radiotap.length', 'radiotap.present.tsft', 'radiotap.present.flags', 'radiotap.present.rate', 'radiotap.present.channel', 'radiotap.present.dbm_antsignal', 'radiotap.present.antenna', 'radiotap.present.rxflags', 'radiotap.flags.fcs', 'radiotap.datarate', 'radiotap.channel.freq', 'radiotap.channel.type.cck', 'radiotap.channel.type.2ghz', 'radiotap.antenna', 'wlan.duration', 'wlan.fcs_good']\n",
      "------------------------------------\n",
      "Task: 8 (1664, 123)\n"
     ]
    },
    {
     "name": "stdout",
     "output_type": "stream",
     "text": [
      "Zero columns:  61\n",
      "They are:  ['frame.interface_id', 'frame.dlt', 'frame.offset_shift', 'frame.marked', 'frame.ignored', 'radiotap.version', 'radiotap.pad', 'radiotap.present.fhss', 'radiotap.present.dbm_antnoise', 'radiotap.present.lock_quality', 'radiotap.present.tx_attenuation', 'radiotap.present.db_tx_attenuation', 'radiotap.present.dbm_tx_power', 'radiotap.present.db_antsignal', 'radiotap.present.db_antnoise', 'radiotap.present.xchannel', 'radiotap.present.mcs', 'radiotap.present.ampdu', 'radiotap.present.vht', 'radiotap.present.rtap_ns', 'radiotap.present.vendor_ns', 'radiotap.present.ext', 'radiotap.flags.cfp', 'radiotap.flags.preamble', 'radiotap.flags.wep', 'radiotap.flags.frag', 'radiotap.flags.datapad', 'radiotap.flags.badfcs', 'radiotap.flags.shortgi', 'radiotap.channel.type.turbo', 'radiotap.channel.type.ofdm', 'radiotap.channel.type.5ghz', 'radiotap.channel.type.passive', 'radiotap.channel.type.dynamic', 'radiotap.channel.type.gfsk', 'radiotap.channel.type.gsm', 'radiotap.channel.type.sturbo', 'radiotap.channel.type.half', 'radiotap.channel.type.quarter', 'radiotap.rxflags.badplcp', 'wlan.fc.version', 'wlan.fc.retry', 'wlan.fc.pwrmgt', 'wlan.fc.moredata', 'wlan.fc.order', 'wlan.ba.control.ackpolicy', 'wlan.ba.control.multitid', 'wlan.ba.control.cbitmap', 'wlan_mgt.fixed.auth.alg', 'wlan_mgt.fixed.category_code', 'wlan_mgt.fixed.fragment', 'wlan_mgt.fixed.sequence', 'wlan_mgt.rsn.akms.type', 'wlan.qos.tid', 'wlan.qos.priority', 'wlan.qos.eosp', 'wlan.qos.amsdupresent', 'wlan.qos.buf_state_indicated', 'wlan.qos.bit4', 'wlan.qos.txop_dur_req', 'wlan.qos.buf_state_indicated']\n",
      "Constant columns:  17\n",
      "They are:  ['frame.time_epoch', 'radiotap.length', 'radiotap.present.tsft', 'radiotap.present.flags', 'radiotap.present.rate', 'radiotap.present.channel', 'radiotap.present.dbm_antsignal', 'radiotap.present.antenna', 'radiotap.present.rxflags', 'radiotap.flags.fcs', 'radiotap.datarate', 'radiotap.channel.freq', 'radiotap.channel.type.cck', 'radiotap.channel.type.2ghz', 'radiotap.antenna', 'wlan.duration', 'wlan.fcs_good']\n",
      "------------------------------------\n"
     ]
    }
   ],
   "source": [
    "for i in range(n_tasks):\n",
    "    #print('Task:',i,training_datasets[i][0].shape,training_datasets[i][1].shape,validation_datasets[i][0].shape,validation_datasets[i][1].shape)\n",
    "    print('Task:',i,training_datasets[i][0].shape)\n",
    "    zero_columns = []\n",
    "    constant_columns = []\n",
    "    for j in range(training_datasets[i][0].shape[1]):\n",
    "        curr= [float(k) for k in training_datasets[i][0][:,j]]\n",
    "        min_val = min(curr)\n",
    "        max_val = max(curr)\n",
    "        mean_val = np.mean(curr)\n",
    "        std_val= np.std(curr)\n",
    "        if (min_val == 0 and max_val == 0):\n",
    "            zero_columns.append(df.columns[j])\n",
    "        elif (min_val == max_val):\n",
    "            constant_columns.append(df.columns[j])\n",
    "    print('Zero columns: ',len(zero_columns),)\n",
    "    print('They are: ',zero_columns)\n",
    "    print('Constant columns: ',len(constant_columns))\n",
    "    print('They are: ',constant_columns)\n",
    "    print('------------------------------------')"
   ]
  },
  {
   "cell_type": "code",
   "execution_count": 13,
   "metadata": {
    "collapsed": true
   },
   "outputs": [],
   "source": [
    "tf.reset_default_graph()\n",
    "config = tf.ConfigProto()\n",
    "config.gpu_options.allow_growth=True\n",
    "sess = tf.InteractiveSession(config=config)\n",
    "sess.run(tf.global_variables_initializer())\n",
    "import keras.backend as K\n",
    "import keras.activations as activations\n",
    "\n",
    "output_mask = tf.Variable(tf.zeros(output_dim), name=\"mask\", trainable=False)\n",
    "\n",
    "def masked_softmax(logits):\n",
    "    # logits are [batch_size, output_dim]\n",
    "    x = select(tf.tile(tf.equal(output_mask[None, :], 1.0), [tf.shape(logits)[0], 1]), logits, -1e32 * tf.ones_like(logits))\n",
    "    return activations.softmax(x)\n",
    "\n",
    "def set_active_outputs(labels):\n",
    "    new_mask = np.zeros(output_dim)\n",
    "    for l in labels:\n",
    "        new_mask[l] = 1.0\n",
    "    sess.run(output_mask.assign(new_mask))\n",
    "    #print(sess.run(output_mask))\n",
    "    \n",
    "def masked_predict(model, data, targets):\n",
    "    pred = model.predict(data)\n",
    "    #print(pred)\n",
    "    acc = np.argmax(pred,1)==np.argmax(targets,1)\n",
    "    return acc.mean()"
   ]
  },
  {
   "cell_type": "code",
   "execution_count": 14,
   "metadata": {
    "collapsed": true
   },
   "outputs": [],
   "source": [
    "from keras.models import Sequential\n",
    "from keras.layers import Dense\n",
    "model = Sequential()\n",
    "model.add(Dense(n_hidden_units, kernel_initializer='random_uniform', activation=activation_fn, input_shape=(input_dim,)))\n",
    "#model.add(Dense(30, kernel_initializer='random_uniform', activation=activation_fn))\n",
    "#model.add(Dense(n_hidden_units, activation=activation_fn))\n",
    "model.add(Dense(output_dim, kernel_initializer='zero', activation=masked_softmax))\n",
    "#model.add(Dense(output_dim, activation=masked_softmax, input_shape=(input_dim,)))\n",
    "\n",
    "from pathint import protocols\n",
    "from pathint.optimizers import KOOptimizer\n",
    "from keras.optimizers import Adam, RMSprop,SGD\n",
    "from keras.callbacks import Callback\n",
    "from pathint.keras_utils import LossHistory\n",
    "from keras.callbacks import History \n",
    "from keras.callbacks import LambdaCallback\n",
    "\n",
    "#protocol_name, protocol = protocols.PATH_INT_PROTOCOL(omega_decay='sum',xi=1e-3)\n",
    "protocol_name, protocol = protocols.PATH_INT_PROTOCOL(omega_decay='sum',xi=1e-3)\n",
    "#protocol_name, protocol = protocols.FISHER_PROTOCOL('sum')\n",
    "opt = Adam(lr=1e-3, beta_1=0.9, beta_2=0.999)\n",
    "#opt = SGD(1e-3)\n",
    "#opt = RMSprop(lr=1e-3)\n",
    "oopt = KOOptimizer(opt, model=model, **protocol)\n",
    "model.compile(loss='categorical_crossentropy', optimizer=oopt, metrics=['accuracy'])\n",
    "model.model._make_train_function()\n",
    "saved_weights = model.get_weights()\n",
    "\n",
    "save_weights_epoch=[]\n",
    "save_loss_epoch=[]\n",
    "print_weights = LambdaCallback(on_epoch_end=lambda batch, logs: save_weights_epoch.append(model.get_weights()))\n",
    "history = LossHistory()\n",
    "#history = History()\n",
    "callbacks = [history]\n",
    "datafile_name = \"split_mnist_data_%s.pkl.gz\"%protocol_name"
   ]
  },
  {
   "cell_type": "code",
   "execution_count": 15,
   "metadata": {},
   "outputs": [
    {
     "name": "stdout",
     "output_type": "stream",
     "text": [
      "_________________________________________________________________\n",
      "Layer (type)                 Output Shape              Param #   \n",
      "=================================================================\n",
      "dense_1 (Dense)              (None, 20)                2480      \n",
      "_________________________________________________________________\n",
      "dense_2 (Dense)              (None, 17)                357       \n",
      "=================================================================\n",
      "Total params: 2,837\n",
      "Trainable params: 2,837\n",
      "Non-trainable params: 0\n",
      "_________________________________________________________________\n",
      "None\n",
      "(123, 20)\n",
      "(20,)\n",
      "(20, 17)\n",
      "(17,)\n"
     ]
    }
   ],
   "source": [
    "print(model.summary())\n",
    "a_list = model.get_weights()\n",
    "for i in range(len(a_list)):\n",
    "    print((np.array(a_list[i])).shape)"
   ]
  },
  {
   "cell_type": "code",
   "execution_count": 16,
   "metadata": {},
   "outputs": [
    {
     "name": "stdout",
     "output_type": "stream",
     "text": [
      "{'step_updates': [('grads2', <function <lambda>.<locals>.<lambda> at 0x7f158d5b3840>)], 'regularizer_fn': <function quadratic_regularizer at 0x7f158d5f7c80>, 'init_updates': [('cweights', <function <lambda>.<locals>.<lambda> at 0x7f158d5f7d90>)], 'task_updates': [('omega', <function <lambda>.<locals>.<lambda> at 0x7f150dde4158>), ('cweights', <function <lambda>.<locals>.<lambda> at 0x7f150dde41e0>), ('grads2', <function <lambda>.<locals>.<lambda> at 0x7f150dde4268>)]}\n"
     ]
    }
   ],
   "source": [
    "print(protocol)"
   ]
  },
  {
   "cell_type": "code",
   "execution_count": 17,
   "metadata": {
    "collapsed": true
   },
   "outputs": [],
   "source": [
    "def run_fits(cvals, training_data, valid_data, eval_on_train_set=False, nstats=1):\n",
    "    acc_mean = dict()\n",
    "    acc_std = dict()\n",
    "    model_weights_save = []   #Empty list to save the model weights aftertraining each task\n",
    "    imp_par = dict()  #Empty list to save importance parameter after learning each progressive task\n",
    "    for cidx, cval_ in enumerate(tqdm(cvals)):\n",
    "        runs = []\n",
    "        for runid in range(nstats):\n",
    "            sess.run(tf.global_variables_initializer())\n",
    "            # model.set_weights(saved_weights)\n",
    "            cstuffs = []\n",
    "            evals = []\n",
    "            print(\"setting cval\")\n",
    "            cval = cval_\n",
    "            oopt.set_strength(cval)\n",
    "            oopt.init_task_vars()\n",
    "            print(\"cval is\", sess.run(oopt.lam))\n",
    "            for age, tidx in enumerate(range(n_tasks)):\n",
    "                print(\"Age %i, cval is=%f\"%(age,cval))\n",
    "                print(\"settint output mask\")\n",
    "                set_active_outputs(task_labels[age])\n",
    "                stuffs = model.fit(training_data[tidx][0], training_data[tidx][1], batch_size, epochs_per_task, callbacks=[print_weights])\n",
    "                save_loss_epoch.append(stuffs.history['loss'])\n",
    "                oopt.update_task_metrics(training_data[tidx][0], training_data[tidx][1], batch_size)\n",
    "                oopt.update_task_vars()\n",
    "                ftask = []\n",
    "                model_weights_save.append(model.get_weights()) #Save the model weights aftertraining each task\n",
    "                for j in range(n_tasks):\n",
    "                    set_active_outputs(task_labels[j])\n",
    "                    if eval_on_train_set:\n",
    "                        f_ = masked_predict(model, training_data[j][0], training_data[j][1])\n",
    "                    else:\n",
    "                        f_ = masked_predict(model, valid_data[j][0], valid_data[j][1])\n",
    "                    ftask.append(np.mean(f_))\n",
    "                evals.append(ftask)\n",
    "                cstuffs.append(stuffs)\n",
    "\n",
    "                # Re-initialize optimizater variables\n",
    "                if reset_optimizer:\n",
    "                    oopt.reset_optimizer()\n",
    "\n",
    "            evals = np.array(evals)\n",
    "            runs.append(evals)\n",
    "        \n",
    "        runs = np.array(runs)\n",
    "        acc_mean[cval_] = runs.mean(0)\n",
    "        acc_std[cval_] = runs.std(0)\n",
    "    return dict(mean=acc_mean, std=acc_std),model_weights_save, imp_par"
   ]
  },
  {
   "cell_type": "code",
   "execution_count": 18,
   "metadata": {},
   "outputs": [
    {
     "name": "stdout",
     "output_type": "stream",
     "text": [
      "[1.0]\n"
     ]
    }
   ],
   "source": [
    "# cvals = np.concatenate(([0], np.logspace(-2, 2, 10)))\n",
    "# cvals = np.concatenate(([0], np.logspace(-1, 2, 2)))\n",
    "# cvals = np.concatenate(([0], np.logspace(-2, 0, 3)))\n",
    "#cvals = np.logspace(-3, 3, 7)#[0, 1.0, 2, 5, 10]\n",
    "cvals = [1.0]\n",
    "print(cvals)"
   ]
  },
  {
   "cell_type": "code",
   "execution_count": 19,
   "metadata": {
    "scrolled": true
   },
   "outputs": [
    {
     "name": "stderr",
     "output_type": "stream",
     "text": [
      "\r",
      "  0%|          | 0/1 [00:00<?, ?it/s]"
     ]
    },
    {
     "name": "stdout",
     "output_type": "stream",
     "text": [
      "setting cval\n",
      "cval is 1.0\n",
      "Age 0, cval is=1.000000\n",
      "settint output mask\n",
      "Epoch 1/10\n",
      "1450552/1450552 [==============================] - 66s - loss: 0.0015 - acc: 0.9998    \n",
      "Epoch 2/10\n",
      "1450552/1450552 [==============================] - 66s - loss: 1.6356e-04 - acc: 0.9999    \n",
      "Epoch 3/10\n",
      "1450552/1450552 [==============================] - 66s - loss: 1.3856e-04 - acc: 1.0000    \n",
      "Epoch 4/10\n",
      "1450552/1450552 [==============================] - 66s - loss: 1.2674e-04 - acc: 1.0000    \n",
      "Epoch 5/10\n",
      "1450552/1450552 [==============================] - 65s - loss: 1.0532e-04 - acc: 1.0000    \n",
      "Epoch 6/10\n",
      "1450552/1450552 [==============================] - 65s - loss: 1.0275e-04 - acc: 1.0000    \n",
      "Epoch 7/10\n",
      "1450552/1450552 [==============================] - 66s - loss: 8.8689e-05 - acc: 1.0000    \n",
      "Epoch 8/10\n",
      "1450552/1450552 [==============================] - 66s - loss: 8.5640e-05 - acc: 1.0000    \n",
      "Epoch 9/10\n",
      "1450552/1450552 [==============================] - 66s - loss: 7.2034e-05 - acc: 1.0000    \n",
      "Epoch 10/10\n",
      "1450552/1450552 [==============================] - 66s - loss: 9.4257e-05 - acc: 1.0000    \n",
      "Age 1, cval is=1.000000\n",
      "settint output mask\n",
      "Epoch 1/10\n",
      "52763/52763 [==============================] - 2s - loss: 0.0184 - acc: 0.9953     \n",
      "Epoch 2/10\n",
      "52763/52763 [==============================] - 2s - loss: 0.0060 - acc: 0.9953     \n",
      "Epoch 3/10\n",
      "52763/52763 [==============================] - 2s - loss: 0.0048 - acc: 0.9957     \n",
      "Epoch 4/10\n",
      "52763/52763 [==============================] - 2s - loss: 0.0038 - acc: 0.9993     \n",
      "Epoch 5/10\n",
      "52763/52763 [==============================] - 2s - loss: 0.0029 - acc: 0.9997     \n",
      "Epoch 6/10\n",
      "52763/52763 [==============================] - 2s - loss: 0.0022 - acc: 0.9997     \n",
      "Epoch 7/10\n",
      "52763/52763 [==============================] - 2s - loss: 0.0017 - acc: 0.9998     \n",
      "Epoch 8/10\n",
      "52763/52763 [==============================] - 2s - loss: 0.0012 - acc: 0.9998     \n",
      "Epoch 9/10\n",
      "52763/52763 [==============================] - 2s - loss: 9.2545e-04 - acc: 0.9999     \n",
      "Epoch 10/10\n",
      "52763/52763 [==============================] - 2s - loss: 6.9516e-04 - acc: 1.0000     \n",
      "Age 2, cval is=1.000000\n",
      "settint output mask\n",
      "Epoch 1/10\n",
      "2063/2063 [==============================] - 0s - loss: 0.3171 - acc: 0.9394     \n",
      "Epoch 2/10\n",
      "2063/2063 [==============================] - 0s - loss: 0.1727 - acc: 0.9394     \n",
      "Epoch 3/10\n",
      "2063/2063 [==============================] - 0s - loss: 0.1160 - acc: 0.9389     \n",
      "Epoch 4/10\n",
      "2063/2063 [==============================] - 0s - loss: 0.0820 - acc: 0.9850     \n",
      "Epoch 5/10\n",
      "2063/2063 [==============================] - 0s - loss: 0.0613 - acc: 0.9995     \n",
      "Epoch 6/10\n",
      "2063/2063 [==============================] - 0s - loss: 0.0483 - acc: 0.9995     \n",
      "Epoch 7/10\n",
      "2063/2063 [==============================] - 0s - loss: 0.0399 - acc: 0.9995     \n",
      "Epoch 8/10\n",
      "2063/2063 [==============================] - 0s - loss: 0.0341 - acc: 0.9995     \n",
      "Epoch 9/10\n",
      "2063/2063 [==============================] - 0s - loss: 0.0298 - acc: 0.9995     \n",
      "Epoch 10/10\n",
      "2063/2063 [==============================] - 0s - loss: 0.0264 - acc: 0.9995     \n",
      "Age 3, cval is=1.000000\n",
      "settint output mask\n",
      "Epoch 1/10\n",
      "31164/31164 [==============================] - 1s - loss: 0.4114 - acc: 0.8347     \n",
      "Epoch 2/10\n",
      "31164/31164 [==============================] - 1s - loss: 0.2764 - acc: 0.9051     \n",
      "Epoch 3/10\n",
      "31164/31164 [==============================] - 1s - loss: 0.2413 - acc: 0.9101     \n",
      "Epoch 4/10\n",
      "31164/31164 [==============================] - 1s - loss: 0.2220 - acc: 0.9145     \n",
      "Epoch 5/10\n",
      "31164/31164 [==============================] - 1s - loss: 0.2073 - acc: 0.9180     \n",
      "Epoch 6/10\n",
      "31164/31164 [==============================] - 1s - loss: 0.1978 - acc: 0.9207     \n",
      "Epoch 7/10\n",
      "31164/31164 [==============================] - 1s - loss: 0.1889 - acc: 0.9232     \n",
      "Epoch 8/10\n",
      "31164/31164 [==============================] - 1s - loss: 0.1833 - acc: 0.9245     \n",
      "Epoch 9/10\n",
      "31164/31164 [==============================] - 1s - loss: 0.1779 - acc: 0.9269     \n",
      "Epoch 10/10\n",
      "31164/31164 [==============================] - 1s - loss: 0.1738 - acc: 0.9281     \n",
      "Age 4, cval is=1.000000\n",
      "settint output mask\n",
      "Epoch 1/10\n",
      "3789/3789 [==============================] - 0s - loss: 0.4038 - acc: 0.8306     \n",
      "Epoch 2/10\n",
      "3789/3789 [==============================] - 0s - loss: 0.0972 - acc: 0.9947     \n",
      "Epoch 3/10\n",
      "3789/3789 [==============================] - 0s - loss: 0.0425 - acc: 0.9979     \n",
      "Epoch 4/10\n",
      "3789/3789 [==============================] - 0s - loss: 0.0283 - acc: 0.9979     \n",
      "Epoch 5/10\n",
      "3789/3789 [==============================] - 0s - loss: 0.0219 - acc: 0.9979     \n",
      "Epoch 6/10\n",
      "3789/3789 [==============================] - 0s - loss: 0.0182 - acc: 0.9979     \n",
      "Epoch 7/10\n",
      "3789/3789 [==============================] - 0s - loss: 0.0157 - acc: 0.9979     \n",
      "Epoch 8/10\n",
      "3789/3789 [==============================] - 0s - loss: 0.0139 - acc: 0.9979     \n",
      "Epoch 9/10\n",
      "3789/3789 [==============================] - 0s - loss: 0.0125 - acc: 0.9979     \n",
      "Epoch 10/10\n",
      "3789/3789 [==============================] - 0s - loss: 0.0114 - acc: 0.9979     \n",
      "Age 5, cval is=1.000000\n",
      "settint output mask\n",
      "Epoch 1/10\n",
      "31936/31936 [==============================] - 1s - loss: 0.0525 - acc: 0.9898     \n",
      "Epoch 2/10\n",
      "31936/31936 [==============================] - 1s - loss: 0.0113 - acc: 0.9997     \n",
      "Epoch 3/10\n",
      "31936/31936 [==============================] - 1s - loss: 0.0069 - acc: 0.9997     \n",
      "Epoch 4/10\n",
      "31936/31936 [==============================] - 1s - loss: 0.0049 - acc: 0.9997     \n",
      "Epoch 5/10\n",
      "31936/31936 [==============================] - 1s - loss: 0.0039 - acc: 0.9997     \n",
      "Epoch 6/10\n",
      "31936/31936 [==============================] - 1s - loss: 0.0032 - acc: 0.9997     \n",
      "Epoch 7/10\n",
      "31936/31936 [==============================] - 1s - loss: 0.0027 - acc: 0.9997     \n",
      "Epoch 8/10\n",
      "31936/31936 [==============================] - 1s - loss: 0.0023 - acc: 0.9997     \n",
      "Epoch 9/10\n",
      "31936/31936 [==============================] - 1s - loss: 0.0020 - acc: 0.9997     \n",
      "Epoch 10/10\n",
      "31936/31936 [==============================] - 1s - loss: 0.0018 - acc: 0.9998     \n",
      "Age 6, cval is=1.000000\n",
      "settint output mask\n",
      "Epoch 1/10\n",
      "13015/13015 [==============================] - 0s - loss: 0.1378 - acc: 0.9922     \n",
      "Epoch 2/10\n",
      "13015/13015 [==============================] - 0s - loss: 0.0428 - acc: 0.9920     \n",
      "Epoch 3/10\n",
      "13015/13015 [==============================] - 0s - loss: 0.0238 - acc: 0.9923     \n",
      "Epoch 4/10\n",
      "13015/13015 [==============================] - 0s - loss: 0.0156 - acc: 0.9952     \n",
      "Epoch 5/10\n",
      "13015/13015 [==============================] - 0s - loss: 0.0116 - acc: 0.9983     \n",
      "Epoch 6/10\n",
      "13015/13015 [==============================] - 0s - loss: 0.0095 - acc: 0.9989     \n",
      "Epoch 7/10\n",
      "13015/13015 [==============================] - 0s - loss: 0.0081 - acc: 0.9992     \n",
      "Epoch 8/10\n",
      "13015/13015 [==============================] - 0s - loss: 0.0072 - acc: 0.9992     \n",
      "Epoch 9/10\n",
      "13015/13015 [==============================] - 0s - loss: 0.0066 - acc: 0.9993     \n",
      "Epoch 10/10\n",
      "13015/13015 [==============================] - 0s - loss: 0.0061 - acc: 0.9994     \n",
      "Age 7, cval is=1.000000\n",
      "settint output mask\n",
      "Epoch 1/10\n",
      "2385/2385 [==============================] - 0s - loss: 0.1624 - acc: 0.9530     \n",
      "Epoch 2/10\n",
      "2385/2385 [==============================] - 0s - loss: 0.0854 - acc: 0.9782     \n",
      "Epoch 3/10\n",
      "2385/2385 [==============================] - 0s - loss: 0.0726 - acc: 0.9782     \n",
      "Epoch 4/10\n",
      "2385/2385 [==============================] - 0s - loss: 0.0677 - acc: 0.9782     \n",
      "Epoch 5/10\n",
      "2385/2385 [==============================] - 0s - loss: 0.0642 - acc: 0.9782     \n",
      "Epoch 6/10\n",
      "2385/2385 [==============================] - 0s - loss: 0.0614 - acc: 0.9782     \n",
      "Epoch 7/10\n",
      "2385/2385 [==============================] - 0s - loss: 0.0591 - acc: 0.9782     \n",
      "Epoch 8/10\n",
      "2385/2385 [==============================] - 0s - loss: 0.0569 - acc: 0.9782     \n",
      "Epoch 9/10\n",
      "2385/2385 [==============================] - 0s - loss: 0.0555 - acc: 0.9782     \n",
      "Epoch 10/10\n",
      "2385/2385 [==============================] - 0s - loss: 0.0540 - acc: 0.9782     \n",
      "Age 8, cval is=1.000000\n",
      "settint output mask\n",
      "Epoch 1/10\n",
      "1664/1664 [==============================] - 0s - loss: 0.0544 - acc: 0.9898     \n",
      "Epoch 2/10\n",
      "1664/1664 [==============================] - 0s - loss: 0.0260 - acc: 0.9982     \n",
      "Epoch 3/10\n",
      "1664/1664 [==============================] - 0s - loss: 0.0184 - acc: 0.9982     \n",
      "Epoch 4/10\n",
      "1664/1664 [==============================] - 0s - loss: 0.0143 - acc: 0.9988     \n",
      "Epoch 5/10\n",
      "1664/1664 [==============================] - 0s - loss: 0.0118 - acc: 0.9994     \n",
      "Epoch 6/10\n",
      "1664/1664 [==============================] - 0s - loss: 0.0101 - acc: 0.9994     \n",
      "Epoch 7/10\n",
      "1664/1664 [==============================] - 0s - loss: 0.0088 - acc: 0.9994     \n",
      "Epoch 8/10\n",
      "1664/1664 [==============================] - 0s - loss: 0.0079 - acc: 0.9994     \n",
      "Epoch 9/10\n",
      "1664/1664 [==============================] - 0s - loss: 0.0072 - acc: 0.9994     \n",
      "Epoch 10/10\n",
      "1664/1664 [==============================] - 0s - loss: 0.0066 - acc: 0.9994     \n"
     ]
    },
    {
     "name": "stderr",
     "output_type": "stream",
     "text": [
      "100%|██████████| 1/1 [15:53<00:00, 953.97s/it]\n"
     ]
    }
   ],
   "source": [
    "#%%capture\n",
    "\n",
    "recompute_data = True\n",
    "\n",
    "if recompute_data:\n",
    "    data,model_weights_save,imp_par = run_fits(cvals, training_datasets, validation_datasets, eval_on_train_set=False, nstats=n_stats)\n",
    "    utils.save_zipped_pickle(data, datafile_name)"
   ]
  },
  {
   "cell_type": "code",
   "execution_count": 20,
   "metadata": {
    "scrolled": true
   },
   "outputs": [
    {
     "name": "stdout",
     "output_type": "stream",
     "text": [
      "_________________________________________________________________\n",
      "Layer (type)                 Output Shape              Param #   \n",
      "=================================================================\n",
      "dense_1 (Dense)              (None, 20)                2480      \n",
      "_________________________________________________________________\n",
      "dense_2 (Dense)              (None, 17)                357       \n",
      "=================================================================\n",
      "Total params: 2,837\n",
      "Trainable params: 2,837\n",
      "Non-trainable params: 0\n",
      "_________________________________________________________________\n",
      "None\n",
      "(123, 20)\n",
      "(20,)\n",
      "(20, 17)\n",
      "(17,)\n"
     ]
    }
   ],
   "source": [
    "import h5py\n",
    "print(model.summary())\n",
    "model.save_weights('saved_weights.h5') #This file cannot be opend normaly to view the weghts. It can be loaded through load_model() or can be opend via hdf5 viewer\n",
    "\n",
    "#Shape of the array containg model weights\n",
    "a_list = model.get_weights()\n",
    "for i in range(len(a_list)):\n",
    "    print((np.array(a_list[i])).shape)\n",
    "\n",
    "#a_list[0][0][0] = a_list[0][0][0]+0.00001\n",
    "#print(a_list[0][0][0])\n",
    "#model.set_weights(a_list)\n",
    "\n",
    "#from keras.utils.vis_utils import plot_model\n",
    "#import pydot\n",
    "#plot_model(model, to_file='model_plot.png', show_shapes=True, show_layer_names=True)"
   ]
  },
  {
   "cell_type": "code",
   "execution_count": 21,
   "metadata": {},
   "outputs": [
    {
     "name": "stdout",
     "output_type": "stream",
     "text": [
      "[1.0]\n"
     ]
    }
   ],
   "source": [
    "data = utils.load_zipped_pickle(datafile_name)\n",
    "print(cvals)"
   ]
  },
  {
   "cell_type": "code",
   "execution_count": 22,
   "metadata": {},
   "outputs": [
    {
     "name": "stdout",
     "output_type": "stream",
     "text": [
      "(-5.0, 0.0)\n"
     ]
    }
   ],
   "source": [
    "import matplotlib.colors as colors\n",
    "cmap = plt.get_cmap('cool') \n",
    "cNorm  = colors.Normalize(vmin=-5, vmax=np.log(np.max(list(data['mean'].keys()))))\n",
    "scalarMap = cmx.ScalarMappable(norm=cNorm, cmap=cmap)\n",
    "print(scalarMap.get_clim())"
   ]
  },
  {
   "cell_type": "code",
   "execution_count": 23,
   "metadata": {},
   "outputs": [
    {
     "name": "stderr",
     "output_type": "stream",
     "text": [
      "No handles with labels found to put in legend.\n",
      "No handles with labels found to put in legend.\n",
      "No handles with labels found to put in legend.\n",
      "No handles with labels found to put in legend.\n",
      "No handles with labels found to put in legend.\n",
      "No handles with labels found to put in legend.\n",
      "No handles with labels found to put in legend.\n",
      "No handles with labels found to put in legend.\n",
      "No handles with labels found to put in legend.\n"
     ]
    },
    {
     "data": {
      "image/png": "[encoded data removed]",
      "text/plain": [
       "<Figure size 1008x180 with 10 Axes>"
      ]
     },
     "metadata": {},
     "output_type": "display_data"
    }
   ],
   "source": [
    "figure(figsize=(14, 2.5))\n",
    "axs = [subplot(1,n_tasks+1,1)]#, None, None]\n",
    "for i in range(1, n_tasks + 1):\n",
    "    axs.append(subplot(1, n_tasks+1, i+1, sharex=axs[0], sharey=axs[0]))\n",
    "    \n",
    "keys = list(data['mean'].keys())\n",
    "sorted_keys = np.sort(keys)\n",
    "\n",
    "for cval in sorted_keys:\n",
    "    mean_vals = data['mean'][cval]\n",
    "    std_vals = data['std'][cval]\n",
    "    for j in range(n_tasks):\n",
    "        colorVal = scalarMap.to_rgba(np.log(cval))\n",
    "        # axs[j].plot(evals[:, j], c=colorVal)\n",
    "        axs[j].errorbar(range(n_tasks), mean_vals[:, j], yerr=std_vals[:, j]/np.sqrt(n_stats), c=colorVal)\n",
    "        axs[j].set_xticks(range(0,n_tasks,2))\n",
    "        if j==0:\n",
    "            axs[j].set_xlabel('Trained Tasks')\n",
    "            axs[j].set_ylabel('Accuracy(*100%)')\n",
    "    label = \"c=%g\"%cval\n",
    "    average = mean_vals.mean(1)  #Taking the average of cross validation accuracies accross all tasks after learning each task\n",
    "    axs[-1].plot(average, c=colorVal, label=label)\n",
    "    \n",
    "for i, ax in enumerate(axs):\n",
    "    ax.legend(loc='best')\n",
    "    ax.set_title((['task %d'%j for j in range(n_tasks)] + ['average'])[i])\n",
    "gcf().tight_layout()\n",
    "sns.despine()\n",
    "plt.savefig('Catastrophic-forgetting-AWID.pdf')"
   ]
  },
  {
   "cell_type": "code",
   "execution_count": 24,
   "metadata": {},
   "outputs": [
    {
     "name": "stdout",
     "output_type": "stream",
     "text": [
      "Rank of data for task-0 of shape-(1450552, 123) is: 45\n",
      "----------------------------------------------------------------------\n",
      "Rank of data for task-1 of shape-(52763, 123) is: 8\n",
      "----------------------------------------------------------------------\n",
      "Rank of data for task-2 of shape-(2063, 123) is: 11\n",
      "----------------------------------------------------------------------\n",
      "Rank of data for task-3 of shape-(31164, 123) is: 9\n",
      "----------------------------------------------------------------------\n",
      "Rank of data for task-4 of shape-(3789, 123) is: 18\n",
      "----------------------------------------------------------------------\n",
      "Rank of data for task-5 of shape-(31936, 123) is: 21\n",
      "----------------------------------------------------------------------\n",
      "Rank of data for task-6 of shape-(13015, 123) is: 18\n",
      "----------------------------------------------------------------------\n",
      "Rank of data for task-7 of shape-(2385, 123) is: 8\n",
      "----------------------------------------------------------------------\n",
      "Rank of data for task-8 of shape-(1664, 123) is: 39\n",
      "----------------------------------------------------------------------\n"
     ]
    }
   ],
   "source": [
    "for j in range(n_tasks):\n",
    "    print('Rank of data for task-{0} of shape-{1} is: {2}'.format(j,training_datasets[j][0].shape,matrix_rank(np.matrix(training_datasets[j][0], dtype='float'))))\n",
    "    print('----------------------------------------------------------------------')"
   ]
  },
  {
   "cell_type": "code",
   "execution_count": 25,
   "metadata": {
    "collapsed": true
   },
   "outputs": [],
   "source": [
    "plt.rc('text', usetex=False)\n",
    "plt.rc('xtick', labelsize=8)\n",
    "plt.rc('ytick', labelsize=8)\n",
    "plt.rc('axes', labelsize=8)\n",
    "\n",
    "def simple_axis(ax):\n",
    "    ax.spines['top'].set_visible(False)\n",
    "    ax.spines['right'].set_visible(False)\n",
    "    ax.get_xaxis().tick_bottom()\n",
    "    ax.get_yaxis().tick_left()\n"
   ]
  },
  {
   "cell_type": "code",
   "execution_count": 26,
   "metadata": {},
   "outputs": [
    {
     "name": "stdout",
     "output_type": "stream",
     "text": [
      "[0.999991600849994, 0.9999316693304703, 0.999974802549982, 0.9840243508045968, 0.9871802904691418, 0.9892550789354635, 0.990838952097133, 0.9885663652091471, 0.9884011124789485]\n"
     ]
    },
    {
     "data": {
      "image/png": "[encoded data removed]",
      "text/plain": [
       "<Figure size 237.6x180 with 1 Axes>"
      ]
     },
     "metadata": {},
     "output_type": "display_data"
    }
   ],
   "source": [
    "#Fractional Correctness = Average of cross validation accuracies of learned tasks only after training each task \n",
    "fig = plt.figure(figsize=(3.3,2.5))\n",
    "ax = plt.subplot(111)\n",
    "\n",
    "for cval in sorted_keys:\n",
    "    mean_stuff = []\n",
    "    std_stuff = []\n",
    "    for i in range(len(data['mean'][cval])):\n",
    "        mean_stuff.append(data['mean'][cval][i][:i+1].mean())\n",
    "        std_stuff.append(np.sqrt((data['std'][cval][i][:i+1]**2).sum())/(n_stats*np.sqrt(n_stats)))\n",
    "    # plot(range(1,n_tasks+1), mean_stuff, 'o-', label=\"c=%g\"%cval)\n",
    "    errorbar(range(1,n_tasks+1), mean_stuff, yerr=std_stuff, fmt='o-', label=\"c=%g\"%cval)\n",
    "        \n",
    "axhline(data['mean'][cval][0][0], linestyle='--', color='k')\n",
    "xlabel('Number of tasks')\n",
    "ylabel('Fraction correct')\n",
    "legend(loc='best')\n",
    "xlim(0.5, n_tasks+1)\n",
    "ylim(0.1, 1.02)\n",
    "# grid('on')\n",
    "# sns.despine()\n",
    "print(mean_stuff)\n",
    "simple_axis(ax)\n",
    "plt.savefig('2attack_fractional_correct_AWID.pdf')"
   ]
  },
  {
   "cell_type": "code",
   "execution_count": 27,
   "metadata": {},
   "outputs": [
    {
     "data": {
      "text/plain": [
       "9"
      ]
     },
     "execution_count": 27,
     "metadata": {},
     "output_type": "execute_result"
    }
   ],
   "source": [
    "len(mean_stuff)"
   ]
  },
  {
   "cell_type": "code",
   "execution_count": 36,
   "metadata": {},
   "outputs": [
    {
     "data": {
      "text/plain": [
       "(9, 90)"
      ]
     },
     "execution_count": 36,
     "metadata": {},
     "output_type": "execute_result"
    }
   ],
   "source": [
    "len(model_weights_save),len(save_weights_epoch),"
   ]
  },
  {
   "cell_type": "code",
   "execution_count": 37,
   "metadata": {
    "collapsed": true
   },
   "outputs": [],
   "source": [
    "#Weights Pattern after training each task\n",
    "Flatten_weights=[]\n",
    "#Flattening the weights into a list\n",
    "def flatten(x):\n",
    "    try:\n",
    "        it = iter(x)\n",
    "    except TypeError:\n",
    "        yield x\n",
    "    else:\n",
    "        for i in it:\n",
    "            for j in flatten(i):\n",
    "                yield j\n",
    "                \n",
    "for i in range(len(model_weights_save)):\n",
    "    Flatten_weights.append(list(flatten(model_weights_save[i]))) \n",
    "\n",
    "Extract_model_params = [];\n",
    "#For model parameters without consolidation use val, with consolidation use val+80 \n",
    "for i in range(n_tasks):   \n",
    "    Extract_model_params.append(Flatten_weights[i])"
   ]
  },
  {
   "cell_type": "code",
   "execution_count": 38,
   "metadata": {},
   "outputs": [
    {
     "data": {
      "text/plain": [
       "(9, 9)"
      ]
     },
     "execution_count": 38,
     "metadata": {},
     "output_type": "execute_result"
    }
   ],
   "source": [
    "len(Extract_model_params),n_tasks"
   ]
  },
  {
   "cell_type": "code",
   "execution_count": 176,
   "metadata": {},
   "outputs": [
    {
     "name": "stderr",
     "output_type": "stream",
     "text": [
      "/usr/local/lib/python3.5/dist-packages/ipykernel_launcher.py:5: DeprecationWarning: Calling np.sum(generator) is deprecated, and in the future will give a different result. Use np.sum(np.from_iter(generator)) or the python sum builtin instead.\n",
      "  \"\"\"\n",
      "/usr/local/lib/python3.5/dist-packages/ipykernel_launcher.py:20: DeprecationWarning: Calling np.sum(generator) is deprecated, and in the future will give a different result. Use np.sum(np.from_iter(generator)) or the python sum builtin instead.\n"
     ]
    },
    {
     "name": "stdout",
     "output_type": "stream",
     "text": [
      "Eucledian Parameter shift after task 1 : 2.7824163325561404\n",
      "Eucledian Parameter shift after task 2 : 3.551588252916112\n",
      "Eucledian Parameter shift after task 3 : 6.5737174840256545\n",
      "Eucledian Parameter shift after task 4 : 4.270053869921836\n",
      "Eucledian Parameter shift after task 5 : 6.019747971734411\n",
      "Eucledian Parameter shift after task 6 : 0.3157356820758686\n",
      "Eucledian Parameter shift after task 7 : 4.535606333035204\n",
      "Eucledian Parameter shift after task 8 : 3.0939059708072034\n",
      "Cosine Parameter shift after task 1 : 0.974\n",
      "Cosine Parameter shift after task 2 : 0.959\n",
      "Cosine Parameter shift after task 3 : 0.881\n",
      "Cosine Parameter shift after task 4 : 0.956\n",
      "Cosine Parameter shift after task 5 : 0.926\n",
      "Cosine Parameter shift after task 6 : 1.0\n",
      "Cosine Parameter shift after task 7 : 0.964\n",
      "Cosine Parameter shift after task 8 : 0.984\n",
      "Jaccard Parameter shift after task 1 : 0.6688818260618319\n",
      "Jaccard Parameter shift after task 2 : 0.6904347826086956\n",
      "Jaccard Parameter shift after task 3 : 0.587823275862069\n",
      "Jaccard Parameter shift after task 4 : 0.5754692043351837\n",
      "Jaccard Parameter shift after task 5 : 0.5695674830640959\n",
      "Jaccard Parameter shift after task 6 : 0.6433585313174947\n",
      "Jaccard Parameter shift after task 7 : 0.4555345316934721\n",
      "Jaccard Parameter shift after task 8 : 0.622740372019911\n",
      "Heuristic Parameter shift after task 1 : 0.8144171779141104\n",
      "Heuristic Parameter shift after task 2 : 0.8269938650306748\n",
      "Heuristic Parameter shift after task 3 : 0.7368098159509202\n",
      "Heuristic Parameter shift after task 4 : 0.7457055214723927\n",
      "Heuristic Parameter shift after task 5 : 0.7392638036809815\n",
      "Heuristic Parameter shift after task 6 : 0.7904907975460123\n",
      "Heuristic Parameter shift after task 7 : 0.5996932515337423\n",
      "Heuristic Parameter shift after task 8 : 0.7748466257668711\n"
     ]
    }
   ],
   "source": [
    "#Weights Pattern after training each task\n",
    "from math import*\n",
    "#1. Euclidean distance\n",
    "def euclidean_distance(x,y):\n",
    "    return sqrt(sum(pow(a-b,2) for a, b in zip(x, y)))\n",
    "#2. Manhattan Distance\n",
    "def manhattan_distance(x,y):\n",
    "    return sum(abs(a-b) for a,b in zip(x,y))\n",
    "#3.  Minkowski distance \n",
    "from decimal import Decimal\n",
    "def nth_root(value, n_root):\n",
    "    root_value = 1/float(n_root)\n",
    "    return round (Decimal(value) ** Decimal(root_value),3)\n",
    "def minkowski_distance(x,y,p_value):\n",
    "    return nth_root(sum(pow(abs(a-b),p_value) for a,b in zip(x, y)),p_value)\n",
    "#4. Cosine Similarity\n",
    "def square_rooted(x):\n",
    "    return round(sqrt(sum([a*a for a in x])),3)\n",
    "def cosine_similarity(x,y):\n",
    "    numerator = sum(a*b for a,b in zip(x,y))\n",
    "    denominator = square_rooted(x)*square_rooted(y)\n",
    "    return round(numerator/float(denominator),3)\n",
    "#5. Jaccard similarity\n",
    "def jaccard_similarity(x,y):\n",
    "    intersection_cardinality = len(set.intersection(*[set(x), set(y)]))\n",
    "    union_cardinality = len(set.union(*[set(x), set(y)]))\n",
    "    return intersection_cardinality/float(union_cardinality)\n",
    "#6. Using Heuristic    \n",
    "import difflib \n",
    "\n",
    "for i in [0,1,2,3,4,5,6,7]:\n",
    "    print(\"Eucledian Parameter shift after task {0} :\".format(i+1),euclidean_distance(Extract_model_params[i],Extract_model_params[i+1]))\n",
    "#for i in [0,1,2,3]:\n",
    "#    print(\"Manhattan Parameter shift after task {0} :\".format(i+1),manhattan_distance(Extract_model_params[i],Extract_model_params[i+1]))\n",
    "#for i in [0,1,2,3]:\n",
    "#    print(\"Minkowsk iParameter shift after task {0} :\".format(i+1),minkowski_distance(Extract_model_params[i],Extract_model_params[i+1],3))\n",
    "for i in [0,1,2,3,4,5,6,7]:\n",
    "    print(\"Cosine Parameter shift after task {0} :\".format(i+1),cosine_similarity(Extract_model_params[i],Extract_model_params[i+1]))\n",
    "for i in [0,1,2,3,4,5,6,7]:\n",
    "    print(\"Jaccard Parameter shift after task {0} :\".format(i+1),jaccard_similarity(Extract_model_params[i],Extract_model_params[i+1]))\n",
    "for i in [0,1,2,3,4,5,6,7]:\n",
    "    print(\"Heuristic Parameter shift after task {0} :\".format(i+1),difflib.SequenceMatcher(None,Extract_model_params[i],Extract_model_params[i+1]).ratio())"
   ]
  },
  {
   "cell_type": "code",
   "execution_count": 39,
   "metadata": {},
   "outputs": [
    {
     "name": "stdout",
     "output_type": "stream",
     "text": [
      "8\n"
     ]
    }
   ],
   "source": [
    "#Counting the number of changed parameters\n",
    "changed_model_parameters=[]\n",
    "for i in range(1,len(Extract_model_params)):\n",
    "    temp=[]\n",
    "    for j,k in zip(Extract_model_params[i],Extract_model_params[i-1]):\n",
    "        temp.append(abs(i-j))\n",
    "    changed_model_parameters.append(temp)\n",
    "print(len(changed_model_parameters))\n",
    "\n",
    "import csv\n",
    "#Save the model parameters in text file\n",
    "with open('temp', 'w') as myfile:\n",
    "    wr = csv.writer(myfile, quoting=csv.QUOTE_ALL)\n",
    "    wr.writerow(Extract_model_params)"
   ]
  },
  {
   "cell_type": "code",
   "execution_count": 40,
   "metadata": {},
   "outputs": [
    {
     "name": "stdout",
     "output_type": "stream",
     "text": [
      "-----After learning 2 task-----\n",
      "1e-05 ----> 0\n",
      "0.0001 ----> 0\n",
      "0.001 ----> 0\n",
      "0.01 ----> 0\n",
      "0.1 ----> 14\n",
      "-----After learning 3 task-----\n",
      "1e-05 ----> 0\n",
      "0.0001 ----> 0\n",
      "0.001 ----> 0\n",
      "0.01 ----> 0\n",
      "0.1 ----> 7\n",
      "-----After learning 4 task-----\n",
      "1e-05 ----> 0\n",
      "0.0001 ----> 0\n",
      "0.001 ----> 0\n",
      "0.01 ----> 0\n",
      "0.1 ----> 2\n",
      "-----After learning 5 task-----\n",
      "1e-05 ----> 0\n",
      "0.0001 ----> 0\n",
      "0.001 ----> 0\n",
      "0.01 ----> 0\n",
      "0.1 ----> 0\n",
      "-----After learning 6 task-----\n",
      "1e-05 ----> 0\n",
      "0.0001 ----> 0\n",
      "0.001 ----> 0\n",
      "0.01 ----> 0\n",
      "0.1 ----> 0\n",
      "-----After learning 7 task-----\n",
      "1e-05 ----> 0\n"
     ]
    },
    {
     "name": "stderr",
     "output_type": "stream",
     "text": [
      "/usr/local/lib/python3.5/dist-packages/ipykernel_launcher.py:5: DeprecationWarning: Calling np.sum(generator) is deprecated, and in the future will give a different result. Use np.sum(np.from_iter(generator)) or the python sum builtin instead.\n",
      "  \"\"\"\n"
     ]
    },
    {
     "name": "stdout",
     "output_type": "stream",
     "text": [
      "0.0001 ----> 0\n",
      "0.001 ----> 0\n",
      "0.01 ----> 0\n",
      "0.1 ----> 0\n",
      "-----After learning 8 task-----\n",
      "1e-05 ----> 0\n",
      "0.0001 ----> 0\n",
      "0.001 ----> 0\n",
      "0.01 ----> 0\n",
      "0.1 ----> 0\n",
      "-----After learning 9 task-----\n",
      "1e-05 ----> 0\n",
      "0.0001 ----> 0\n",
      "0.001 ----> 0\n",
      "0.01 ----> 0\n",
      "0.1 ----> 0\n"
     ]
    }
   ],
   "source": [
    "#Number of parameters unchanged within the thresold. Checked for five threshold values as [1e-5, 1e-4, 1e-3, 1e-2, 1e-1].\n",
    "for i in range(len(changed_model_parameters)):\n",
    "    print('-----After learning',i+2,'task-----')\n",
    "    for j in [1e-5, 1e-4, 1e-3, 1e-2, 1e-1]:\n",
    "        print(j,'---->',sum(k < j for k in changed_model_parameters[i]))"
   ]
  },
  {
   "cell_type": "code",
   "execution_count": 41,
   "metadata": {},
   "outputs": [
    {
     "name": "stdout",
     "output_type": "stream",
     "text": [
      "Rank of the Autocorrelation Matrix for task= 0 is : 0\n",
      "Rank of the Autocorrelation Matrix for task= 1 is : 0\n",
      "Rank of the Autocorrelation Matrix for task= 2 is : 0\n",
      "Rank of the Autocorrelation Matrix for task= 3 is : 0\n",
      "Rank of the Autocorrelation Matrix for task= 4 is : 0\n",
      "Rank of the Autocorrelation Matrix for task= 5 is : 0\n",
      "Rank of the Autocorrelation Matrix for task= 6 is : 0\n",
      "Rank of the Autocorrelation Matrix for task= 7 is : 0\n",
      "Rank of the Autocorrelation Matrix for task= 8 is : 0\n"
     ]
    }
   ],
   "source": [
    "import pandas as pd\n",
    "from numpy.linalg import matrix_rank\n",
    "import math\n",
    "corr_matrix = []\n",
    "corr_row = []\n",
    "Rank_corr_matrix=[]\n",
    "for j in range(n_tasks):\n",
    "    df = pd.DataFrame(training_datasets[j][0])\n",
    "    correlation_matrix = df.corr().values\n",
    "    correlation_matrix = np.nan_to_num(correlation_matrix)\n",
    "    for k in range(len(correlation_matrix)):\n",
    "        for i in range(len(correlation_matrix)):\n",
    "            corr_elem = (math.ceil(correlation_matrix[k][i]*1e10)/1e10)\n",
    "            corr_row.append(np.around(corr_elem))\n",
    "        corr_matrix.append(corr_row)\n",
    "        corr_row = []\n",
    "    rank_corr_matrix=np.linalg.matrix_rank(np.asarray(corr_matrix))\n",
    "    Rank_corr_matrix.append(rank_corr_matrix)\n",
    "    print('Rank of the Autocorrelation Matrix for task=',j,'is :',rank_corr_matrix)"
   ]
  },
  {
   "cell_type": "code",
   "execution_count": 42,
   "metadata": {},
   "outputs": [
    {
     "name": "stdout",
     "output_type": "stream",
     "text": [
      "Rank of the Hessian Matrix after task= 0 is : 343\n",
      "Rank of the Hessian Matrix after task= 1 is : 394\n",
      "Rank of the Hessian Matrix after task= 2 is : 452\n",
      "Rank of the Hessian Matrix after task= 3 is : 530\n",
      "Rank of the Hessian Matrix after task= 4 is : 707\n",
      "Rank of the Hessian Matrix after task= 5 is : 739\n",
      "Rank of the Hessian Matrix after task= 6 is : 765\n",
      "Rank of the Hessian Matrix after task= 7 is : 783\n",
      "Rank of the Hessian Matrix after task= 8 is : 1094\n"
     ]
    }
   ],
   "source": [
    "#Weights Pattern after training each task\n",
    "Flatten_weights=[]\n",
    "#Flattening the weights into a list\n",
    "def flatten(x):\n",
    "    try:\n",
    "        it = iter(x)\n",
    "    except TypeError:\n",
    "        yield x\n",
    "    else:\n",
    "        for i in it:\n",
    "            for j in flatten(i):\n",
    "                yield j\n",
    "                \n",
    "for i in range(len(model_weights_save)):\n",
    "    if i == 0:\n",
    "        Flatten_weights.append(list(flatten(save_weights_epoch[epochs_per_task-2])))\n",
    "        Flatten_weights.append(list(flatten(save_weights_epoch[epochs_per_task-1])))\n",
    "    Flatten_weights.append(list(flatten(model_weights_save[i]))) \n",
    "\n",
    "Extract_model_params = [];\n",
    "#For model parameters without consolidation use val, with consolidation use val+80 \n",
    "for i in range(len(Flatten_weights)):   \n",
    "    Extract_model_params.append(Flatten_weights[i])\n",
    "    \n",
    "gradient_save=[]\n",
    "for i in range(1,len(Extract_model_params)):\n",
    "    if i == 2:\n",
    "        pass\n",
    "    else :\n",
    "        temp=list(np.asarray(Extract_model_params[i])-np.asarray(Extract_model_params[i-1]))\n",
    "        gradient = [j/0.001 for j in temp]\n",
    "        gradient_save.append(gradient)\n",
    "    \n",
    "#Creating the Hessian matrix from the gradients\n",
    "import math\n",
    "Hessian_matrix = []\n",
    "Hessian_row = []\n",
    "Rank_Hessian_matrix = []\n",
    "for k in range(len(gradient_save)):\n",
    "    for i in range(len(gradient_save[k])):\n",
    "        partial_deriv_1 = (math.ceil(gradient_save[k][i]*1e10)/1e10)\n",
    "        for j in range(len(gradient_save[k])):\n",
    "            partial_deriv_2 = (math.ceil(gradient_save[k][j]*1e10)/1e10)\n",
    "            Hessian_row.append(np.around(partial_deriv_1*partial_deriv_2))\n",
    "        Hessian_matrix.append(Hessian_row)\n",
    "        Hessian_row = []\n",
    "    rank_Hessian_matrix = np.linalg.matrix_rank(np.asarray(Hessian_matrix))\n",
    "    Rank_Hessian_matrix.append(rank_Hessian_matrix)\n",
    "    print('Rank of the Hessian Matrix after task=',k,'is :',rank_Hessian_matrix)"
   ]
  },
  {
   "cell_type": "code",
   "execution_count": 52,
   "metadata": {},
   "outputs": [],
   "source": [
    "#Saving the parameters for future use\n",
    "import pickle\n",
    "with open(\"AWID_Parameters.txt\", \"wb\") as fp:   #Pickling\n",
    "    pickle.dump(model_weights_save, fp)\n",
    "    \n",
    "with open(\"AWID_Parameters.txt\", \"rb\") as fp:   # Unpickling\n",
    "    b = pickle.load(fp)"
   ]
  },
  {
   "cell_type": "code",
   "execution_count": null,
   "metadata": {
    "collapsed": true
   },
   "outputs": [],
   "source": []
  }
 ],
 "metadata": {
  "kernelspec": {
   "display_name": "Python 2",
   "language": "python",
   "name": "python2"
  },
  "language_info": {
   "codemirror_mode": {
    "name": "ipython",
    "version": 2
   },
   "file_extension": ".py",
   "mimetype": "text/x-python",
   "name": "python",
   "nbconvert_exporter": "python",
   "pygments_lexer": "ipython2",
   "version": "2.7.14"
  }
 },
 "nbformat": 4,
 "nbformat_minor": 2
}
