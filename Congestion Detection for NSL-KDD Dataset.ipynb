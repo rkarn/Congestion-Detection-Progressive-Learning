{
 "cells": [
  {
   "cell_type": "code",
   "execution_count": 1,
   "metadata": {
    "collapsed": true
   },
   "outputs": [],
   "source": [
    "import os\n",
    "#os.chdir('/Users/rupesh.karn/Desktop/WorkPart-1/UNSW-NB15 Dataset')\n",
    "import pandas as pd\n",
    "import numpy as np\n",
    "import csv\n",
    "import os\n",
    "import time\n",
    "from matplotlib.pyplot import *\n",
    "import matplotlib.pyplot as plt\n",
    "import pylab\n",
    "pylab.rcParams['figure.figsize'] = (16.0, 5.0)"
   ]
  },
  {
   "cell_type": "code",
   "execution_count": 2,
   "metadata": {},
   "outputs": [
    {
     "name": "stdout",
     "output_type": "stream",
     "text": [
      "Reading Training csv file.\n",
      "Reading Testing csv file.\n",
      "(148515, 41) (148515,)\n",
      "(99505, 41) (49010, 41)\n"
     ]
    }
   ],
   "source": [
    "#Type-1\n",
    "print(\"Reading Training csv file.\")\n",
    "df1 = pd.read_csv(\"KDDTrain+.txt\")\n",
    "print(\"Reading Testing csv file.\")\n",
    "df2 = pd.read_csv(\"KDDTest+.txt\")\n",
    "df1.drop(df1.columns[-1], axis=1, inplace=True)  \n",
    "df2.drop(df2.columns[-1], axis=1, inplace=True)  \n",
    "col_names = np.array([\"duration\",\"protocol_type\",\"service\",\"flag\",\"src_bytes\",\n",
    "    \"dst_bytes\",\"land\",\"wrong_fragment\",\"urgent\",\"hot\",\"num_failed_logins\",\n",
    "    \"logged_in\",\"num_compromised\",\"root_shell\",\"su_attempted\",\"num_root\",\n",
    "    \"num_file_creations\",\"num_shells\",\"num_access_files\",\"num_outbound_cmds\",\n",
    "    \"is_host_login\",\"is_guest_login\",\"count\",\"srv_count\",\"serror_rate\",\n",
    "    \"srv_serror_rate\",\"rerror_rate\",\"srv_rerror_rate\",\"same_srv_rate\",\n",
    "    \"diff_srv_rate\",\"srv_diff_host_rate\",\"dst_host_count\",\"dst_host_srv_count\",\n",
    "    \"dst_host_same_srv_rate\",\"dst_host_diff_srv_rate\",\"dst_host_same_src_port_rate\",\n",
    "    \"dst_host_srv_diff_host_rate\",\"dst_host_serror_rate\",\"dst_host_srv_serror_rate\",\n",
    "    \"dst_host_rerror_rate\",\"dst_host_srv_rerror_rate\",\"labels\"])\n",
    "\n",
    "df1.columns = col_names\n",
    "df2.columns = col_names\n",
    "\n",
    "df = pd.concat([df1, df2])\n",
    "\n",
    "from sklearn import preprocessing\n",
    "le = preprocessing.LabelEncoder()\n",
    "le.fit(df['labels'])\n",
    "df['labels'] = le.transform(df['labels'])\n",
    "\n",
    "le = preprocessing.LabelEncoder()\n",
    "le.fit(df['protocol_type'])\n",
    "df['protocol_type'] = le.transform(df['protocol_type'])\n",
    "\n",
    "le = preprocessing.LabelEncoder()\n",
    "le.fit(df['service'])\n",
    "df['service'] = le.transform(df['service'])\n",
    "\n",
    "le = preprocessing.LabelEncoder()\n",
    "le.fit(df['flag'])\n",
    "df['flag'] = le.transform(df['flag'])\n",
    "\n",
    "X= df.values[:,:-1]\n",
    "Y = df.values[:,-1]\n",
    "Y = Y.astype(int)\n",
    "print (X.shape,Y.shape)\n",
    "from sklearn.model_selection import train_test_split\n",
    "X_train, X_test, Y_train_all_attacks, Y_test_all_attacks = train_test_split(X, Y, test_size=0.33)\n",
    "print (X_train.shape,X_test.shape)"
   ]
  },
  {
   "cell_type": "code",
   "execution_count": 2,
   "metadata": {},
   "outputs": [
    {
     "name": "stdout",
     "output_type": "stream",
     "text": [
      "Reading Training csv file.\n",
      "Reading Testing csv file.\n",
      "(125972, 41) (22543, 41) (125972,) (22543,)\n"
     ]
    }
   ],
   "source": [
    "#Type-2\n",
    "print(\"Reading Training csv file.\")\n",
    "df1 = pd.read_csv(\"KDDTrain+.txt\")\n",
    "print(\"Reading Testing csv file.\")\n",
    "df2 = pd.read_csv(\"KDDTest+.txt\")\n",
    "df1.drop(df1.columns[-2], axis=1, inplace=True)  \n",
    "df2.drop(df2.columns[-2], axis=1, inplace=True)  \n",
    "col_names = np.array([\"duration\",\"protocol_type\",\"service\",\"flag\",\"src_bytes\",\n",
    "    \"dst_bytes\",\"land\",\"wrong_fragment\",\"urgent\",\"hot\",\"num_failed_logins\",\n",
    "    \"logged_in\",\"num_compromised\",\"root_shell\",\"su_attempted\",\"num_root\",\n",
    "    \"num_file_creations\",\"num_shells\",\"num_access_files\",\"num_outbound_cmds\",\n",
    "    \"is_host_login\",\"is_guest_login\",\"count\",\"srv_count\",\"serror_rate\",\n",
    "    \"srv_serror_rate\",\"rerror_rate\",\"srv_rerror_rate\",\"same_srv_rate\",\n",
    "    \"diff_srv_rate\",\"srv_diff_host_rate\",\"dst_host_count\",\"dst_host_srv_count\",\n",
    "    \"dst_host_same_srv_rate\",\"dst_host_diff_srv_rate\",\"dst_host_same_src_port_rate\",\n",
    "    \"dst_host_srv_diff_host_rate\",\"dst_host_serror_rate\",\"dst_host_srv_serror_rate\",\n",
    "    \"dst_host_rerror_rate\",\"dst_host_srv_rerror_rate\",\"labels\"])\n",
    "\n",
    "df1.columns = col_names\n",
    "df2.columns = col_names\n",
    "\n",
    "from sklearn import preprocessing\n",
    "le = preprocessing.LabelEncoder()\n",
    "le.fit(df1['protocol_type'])\n",
    "df1['protocol_type'] = le.transform(df1['protocol_type'])\n",
    "df2['protocol_type'] = le.transform(df2['protocol_type'])\n",
    "le = preprocessing.LabelEncoder()\n",
    "le.fit(df1['service'])\n",
    "df1['service'] = le.transform(df1['service'])\n",
    "df2['service'] = le.transform(df2['service'])\n",
    "le = preprocessing.LabelEncoder()\n",
    "le.fit(df1['flag'])\n",
    "df1['flag'] = le.transform(df1['flag'])\n",
    "df2['flag'] = le.transform(df2['flag'])\n",
    "\n",
    "     \n",
    "\n",
    "X_train= df1.values[:,:-1]\n",
    "X_test= df2.values[:,:-1]\n",
    "Y_train_all_attacks = df1.values[:,-1]\n",
    "Y_test_all_attacks = df2.values[:,-1]\n",
    "Y_train_all_attacks = Y_train_all_attacks.astype(int)\n",
    "Y_test_all_attacks = Y_test_all_attacks.astype(int)\n",
    "print (X_train.shape,X_test.shape,Y_train_all_attacks.shape,Y_test_all_attacks.shape)"
   ]
  },
  {
   "cell_type": "code",
   "execution_count": 4,
   "metadata": {},
   "outputs": [
    {
     "name": "stdout",
     "output_type": "stream",
     "text": [
      "Populating the interactive namespace from numpy and matplotlib\n"
     ]
    },
    {
     "name": "stderr",
     "output_type": "stream",
     "text": [
      "/usr/local/lib/python3.5/dist-packages/IPython/core/magics/pylab.py:160: UserWarning: pylab import has clobbered these variables: ['pylab']\n",
      "`%matplotlib` prevents importing * from pylab and numpy\n",
      "  \"\\n`%matplotlib` prevents importing * from pylab and numpy\"\n",
      "/usr/local/lib/python3.5/dist-packages/h5py/__init__.py:36: FutureWarning: Conversion of the second argument of issubdtype from `float` to `np.floating` is deprecated. In future, it will be treated as `np.float64 == np.dtype(float).type`.\n",
      "  from ._conv import register_converters as _register_converters\n",
      "Using TensorFlow backend.\n"
     ]
    }
   ],
   "source": [
    "#Type-1 is used here\n",
    "%load_ext autoreload\n",
    "%autoreload 2\n",
    "%pylab inline\n",
    "\n",
    "import tensorflow as tf\n",
    "slim = tf.contrib.slim\n",
    "graph_replace = tf.contrib.graph_editor.graph_replace\n",
    "\n",
    "import sys, os\n",
    "sys.path.extend([os.path.expanduser('..')])\n",
    "from pathint import utils\n",
    "import seaborn as sns\n",
    "sns.set_style(\"ticks\")\n",
    "\n",
    "from tqdm import trange, tqdm\n",
    "\n",
    "# import operator\n",
    "import matplotlib.colors as colors\n",
    "import matplotlib.cm as cmx\n",
    "\n",
    "rcParams['pdf.fonttype'] = 42\n",
    "rcParams['ps.fonttype'] = 42\n",
    "\n",
    "select = tf.select if hasattr(tf, 'select') else tf.where"
   ]
  },
  {
   "cell_type": "code",
   "execution_count": 25,
   "metadata": {
    "collapsed": true
   },
   "outputs": [],
   "source": [
    "# Data params\n",
    "input_dim = 41\n",
    "output_dim = 22\n",
    "\n",
    "# Network params\n",
    "n_hidden_units = 41\n",
    "activation_fn = tf.nn.relu\n",
    "\n",
    "# Optimization params\n",
    "batch_size = 64\n",
    "epochs_per_task = 10\n",
    "\n",
    "n_stats = 1\n",
    "\n",
    "# Reset optimizer after each age\n",
    "reset_optimizer = True"
   ]
  },
  {
   "cell_type": "code",
   "execution_count": 26,
   "metadata": {
    "collapsed": true
   },
   "outputs": [],
   "source": [
    "from keras.utils import np_utils\n",
    "\n",
    "#task_labels = [[0,1],[2,3],[4,5],[6,7],[8,9],[10,11],[12,13],[14,15],[16,17],[18,19],[20,21],[22,23],[24,25],[26,27],[28,29],[30,31],[32,33],[34,35],[36,37],[38,39]]\n",
    "#nb_classes  = 40\n",
    "#task_labels = [[0,5],[2,3],[1,5],[6,7],[8,9],[10,11],[12,13],[14,15],[16,17],[18,19],[20,21]]\n",
    "nb_classes  = 22\n",
    "task_labels = [[8,9], [6,7], [4,5], [2,3], [0,1],[10,11],[12,13],[14,15],[16,17]]\n",
    "#task_labels = [[2,3], [4,5], [6,7], [8,9],[10,11]]\n",
    "#task_labels = [[0,1,2], [3,4,5], [6,7,8,9]]\n",
    "#task_labels = [[1,5,8],[2,5,7,9],[3,4,6]]\n",
    "#task_labels = [[0,1], [2,3], [4,5], [6,7], [8,9],[1,5],[0,9],[3,8],[0,6],[4,2],[3,5],[0,4],[9,6],[1,2]]\n",
    "n_tasks = len(task_labels)\n",
    "training_datasets = []\n",
    "validation_datasets = []\n",
    "multihead=False\n",
    "\n",
    "for labels in task_labels:\n",
    "    idx = np.in1d(Y_train_all_attacks, labels)\n",
    "    if multihead:\n",
    "        label_map = np.arange(nb_classes)\n",
    "        label_map[labels] = np.arange(len(labels))\n",
    "        data = X_train[idx], np_utils.to_categorical(label_map[Y_train_all_attacks[idx]], len(labels))\n",
    "    else:\n",
    "        data = X_train[idx], np_utils.to_categorical(Y_train_all_attacks[idx], nb_classes)\n",
    "        training_datasets.append(data)\n",
    "\n",
    "for labels in task_labels:\n",
    "    idx = np.in1d(Y_test_all_attacks, labels)\n",
    "    if multihead:\n",
    "        label_map = np.arange(nb_classes)\n",
    "        label_map[labels] = np.arange(len(labels))\n",
    "        data = X_test[idx], np_utils.to_categorical(label_map[Y_test_all_attacks[idx]], len(labels))\n",
    "    else:\n",
    "        data = X_test[idx], np_utils.to_categorical(Y_test_all_attacks[idx], nb_classes)\n",
    "        validation_datasets.append(data)"
   ]
  },
  {
   "cell_type": "code",
   "execution_count": 27,
   "metadata": {},
   "outputs": [
    {
     "name": "stdout",
     "output_type": "stream",
     "text": [
      "Task: 0 (22, 41) (22, 22) (14, 41) (14, 22)\n",
      "Task: 1 (2561, 41) (2561, 22) (1191, 41) (1191, 22)\n",
      "Task: 2 (957, 41) (957, 22) (460, 41) (460, 22)\n",
      "Task: 3 (44, 41) (44, 22) (17, 41) (17, 22)\n",
      "Task: 4 (1359, 41) (1359, 22) (693, 41) (693, 22)\n",
      "Task: 5 (888, 41) (888, 22) (401, 41) (401, 22)\n",
      "Task: 6 (31, 41) (31, 22) (11, 41) (11, 22)\n",
      "Task: 7 (31720, 41) (31720, 22) (15716, 41) (15716, 22)\n",
      "Task: 8 (51700, 41) (51700, 22) (25358, 41) (25358, 22)\n"
     ]
    }
   ],
   "source": [
    "for i in range(n_tasks):\n",
    "    print('Task:',i,training_datasets[i][0].shape,training_datasets[i][1].shape,validation_datasets[i][0].shape,validation_datasets[i][1].shape)"
   ]
  },
  {
   "cell_type": "code",
   "execution_count": 28,
   "metadata": {
    "collapsed": true
   },
   "outputs": [],
   "source": [
    "tf.reset_default_graph()\n",
    "config = tf.ConfigProto()\n",
    "config.gpu_options.allow_growth=True\n",
    "sess = tf.InteractiveSession(config=config)\n",
    "sess.run(tf.global_variables_initializer())\n",
    "import keras.backend as K\n",
    "import keras.activations as activations\n",
    "\n",
    "output_mask = tf.Variable(tf.zeros(output_dim), name=\"mask\", trainable=False)\n",
    "\n",
    "def masked_softmax(logits):\n",
    "    # logits are [batch_size, output_dim]\n",
    "    x = select(tf.tile(tf.equal(output_mask[None, :], 1.0), [tf.shape(logits)[0], 1]), logits, -1e32 * tf.ones_like(logits))\n",
    "    return activations.softmax(x)\n",
    "\n",
    "def set_active_outputs(labels):\n",
    "    new_mask = np.zeros(output_dim)\n",
    "    for l in labels:\n",
    "        new_mask[l] = 1.0\n",
    "    sess.run(output_mask.assign(new_mask))\n",
    "    #print(sess.run(output_mask))\n",
    "    \n",
    "def masked_predict(model, data, targets):\n",
    "    pred = model.predict(data)\n",
    "    #print(pred)\n",
    "    acc = np.argmax(pred,1)==np.argmax(targets,1)\n",
    "    return acc.mean()"
   ]
  },
  {
   "cell_type": "code",
   "execution_count": 53,
   "metadata": {
    "collapsed": true
   },
   "outputs": [],
   "source": [
    "from keras.models import Sequential\n",
    "from keras.layers import Dense\n",
    "from keras.layers import Dropout\n",
    "model = Sequential()\n",
    "model.add(Dense(n_hidden_units, kernel_initializer='random_uniform', activation=activation_fn, input_shape=(input_dim,)))\n",
    "#model.add(Dense(n_hidden_units, kernel_initializer='random_uniform', activation=activation_fn))\n",
    "model.add(Dense(30, activation=activation_fn))\n",
    "model.add(Dense(output_dim, kernel_initializer='zero', activation=masked_softmax))\n",
    "#model.add(Dense(output_dim, kernel_initializer='random_uniform', activation=masked_softmax, input_shape=(input_dim,)))\n",
    "\n",
    "from pathint import protocols\n",
    "from pathint.optimizers import KOOptimizer\n",
    "from keras.optimizers import Adam, RMSprop,SGD\n",
    "from keras.callbacks import Callback\n",
    "from pathint.keras_utils import LossHistory\n",
    "from keras.callbacks import History \n",
    "from keras.callbacks import LambdaCallback\n",
    "\n",
    "#protocol_name, protocol = protocols.PATH_INT_PROTOCOL(omega_decay='sum',xi=1e-3)\n",
    "protocol_name, protocol = protocols.PATH_INT_PROTOCOL(omega_decay='sum',xi=1e-3)\n",
    "#protocol_name, protocol = protocols.FISHER_PROTOCOL('sum')\n",
    "opt = Adam(lr=1e-3, beta_1=0.9, beta_2=0.999)\n",
    "#opt = SGD(1e-3)\n",
    "#opt = RMSprop(lr=1e-3)\n",
    "oopt = KOOptimizer(opt, model=model, **protocol)\n",
    "model.compile(loss='categorical_crossentropy', optimizer=oopt, metrics=['accuracy'])\n",
    "model.model._make_train_function()\n",
    "saved_weights = model.get_weights()\n",
    "\n",
    "save_weights_epoch=[]\n",
    "save_loss_epoch=[]\n",
    "print_weights = LambdaCallback(on_epoch_end=lambda batch, logs: save_weights_epoch.append(model.get_weights()))\n",
    "history = LossHistory()\n",
    "#history = History()\n",
    "callbacks = [history]\n",
    "datafile_name = \"split_mnist_data_%s.pkl.gz\"%protocol_name"
   ]
  },
  {
   "cell_type": "code",
   "execution_count": 51,
   "metadata": {},
   "outputs": [
    {
     "name": "stdout",
     "output_type": "stream",
     "text": [
      "{'regularizer_fn': <function quadratic_regularizer at 0x7f3673fc5e18>, 'init_updates': [('cweights', <function <lambda>.<locals>.<lambda> at 0x7f3648686ae8>)], 'task_updates': [('omega', <function <lambda>.<locals>.<lambda> at 0x7f364868b6a8>), ('cweights', <function <lambda>.<locals>.<lambda> at 0x7f364879b6a8>), ('grads2', <function <lambda>.<locals>.<lambda> at 0x7f364879b488>)], 'step_updates': [('grads2', <function <lambda>.<locals>.<lambda> at 0x7f364868bb70>)]}\n"
     ]
    }
   ],
   "source": [
    "print(protocol)"
   ]
  },
  {
   "cell_type": "code",
   "execution_count": 31,
   "metadata": {
    "collapsed": true
   },
   "outputs": [],
   "source": [
    "def run_fits(cvals, training_data, valid_data, eval_on_train_set=False, nstats=1):\n",
    "    acc_mean = dict()\n",
    "    acc_std = dict()\n",
    "    model_weights_save = []   #Empty list to save the model weights aftertraining each task\n",
    "    imp_par = dict()  #Empty list to save importance parameter after learning each progressive task\n",
    "    for cidx, cval_ in enumerate(tqdm(cvals)):\n",
    "        runs = []\n",
    "        for runid in range(nstats):\n",
    "            sess.run(tf.global_variables_initializer())\n",
    "            # model.set_weights(saved_weights)\n",
    "            cstuffs = []\n",
    "            evals = []\n",
    "            print(\"setting cval\")\n",
    "            cval = cval_\n",
    "            oopt.set_strength(cval)\n",
    "            oopt.init_task_vars()\n",
    "            print(\"cval is\", sess.run(oopt.lam))\n",
    "            for age, tidx in enumerate(range(n_tasks)):\n",
    "                print(\"Age %i, cval is=%f\"%(age,cval))\n",
    "                print(\"settint output mask\")\n",
    "                set_active_outputs(task_labels[age])\n",
    "                stuffs = model.fit(training_data[tidx][0], training_data[tidx][1], batch_size, epochs_per_task, callbacks=[print_weights])\n",
    "                save_loss_epoch.append(stuffs.history['loss'])\n",
    "                oopt.update_task_metrics(training_data[tidx][0], training_data[tidx][1], batch_size)\n",
    "                oopt.update_task_vars()\n",
    "                ftask = []\n",
    "                model_weights_save.append(model.get_weights()) #Save the model weights aftertraining each task\n",
    "                for j in range(n_tasks):\n",
    "                    set_active_outputs(task_labels[j])\n",
    "                    if eval_on_train_set:\n",
    "                        f_ = masked_predict(model, training_data[j][0], training_data[j][1])\n",
    "                    else:\n",
    "                        f_ = masked_predict(model, valid_data[j][0], valid_data[j][1])\n",
    "                    ftask.append(np.mean(f_))\n",
    "                evals.append(ftask)\n",
    "                cstuffs.append(stuffs)\n",
    "\n",
    "                # Re-initialize optimizater variables\n",
    "                if reset_optimizer:\n",
    "                    oopt.reset_optimizer()\n",
    "\n",
    "            evals = np.array(evals)\n",
    "            runs.append(evals)\n",
    "        \n",
    "        runs = np.array(runs)\n",
    "        acc_mean[cval_] = runs.mean(0)\n",
    "        acc_std[cval_] = runs.std(0)\n",
    "    return dict(mean=acc_mean, std=acc_std),model_weights_save, imp_par"
   ]
  },
  {
   "cell_type": "code",
   "execution_count": 32,
   "metadata": {},
   "outputs": [
    {
     "name": "stdout",
     "output_type": "stream",
     "text": [
      "[1.0]\n"
     ]
    }
   ],
   "source": [
    "# cvals = np.concatenate(([0], np.logspace(-2, 2, 10)))\n",
    "# cvals = np.concatenate(([0], np.logspace(-1, 2, 2)))\n",
    "# cvals = np.concatenate(([0], np.logspace(-2, 0, 3)))\n",
    "#cvals = np.logspace(-3, 3, 7)#[0, 1.0, 2, 5, 10]\n",
    "cvals = [1.0]\n",
    "print(cvals)"
   ]
  },
  {
   "cell_type": "code",
   "execution_count": 33,
   "metadata": {
    "scrolled": true
   },
   "outputs": [
    {
     "name": "stderr",
     "output_type": "stream",
     "text": [
      "\r",
      "  0%|          | 0/1 [00:00<?, ?it/s]"
     ]
    },
    {
     "name": "stdout",
     "output_type": "stream",
     "text": [
      "setting cval\n",
      "cval is 1.0\n",
      "Age 0, cval is=1.000000\n",
      "settint output mask\n",
      "Epoch 1/10\n",
      "22/22 [==============================] - 0s - loss: 0.6931 - acc: 0.6364\n",
      "Epoch 2/10\n",
      "22/22 [==============================] - 0s - loss: 0.5398 - acc: 0.4545\n",
      "Epoch 3/10\n",
      "22/22 [==============================] - 0s - loss: 0.4975 - acc: 0.5455\n",
      "Epoch 4/10\n",
      "22/22 [==============================] - 0s - loss: 0.4741 - acc: 0.9091\n",
      "Epoch 5/10\n",
      "22/22 [==============================] - 0s - loss: 0.4592 - acc: 0.9545\n",
      "Epoch 6/10\n",
      "22/22 [==============================] - 0s - loss: 0.4484 - acc: 0.9545\n",
      "Epoch 7/10\n",
      "22/22 [==============================] - 0s - loss: 0.4396 - acc: 1.0000\n",
      "Epoch 8/10\n",
      "22/22 [==============================] - 0s - loss: 0.4314 - acc: 1.0000\n",
      "Epoch 9/10\n",
      "22/22 [==============================] - 0s - loss: 0.4230 - acc: 1.0000\n",
      "Epoch 10/10\n",
      "22/22 [==============================] - 0s - loss: 0.4141 - acc: 1.0000\n",
      "Age 1, cval is=1.000000\n",
      "settint output mask\n",
      "Epoch 1/10\n",
      "2561/2561 [==============================] - 0s - loss: 0.2256 - acc: 0.9727        \n",
      "Epoch 2/10\n",
      "2561/2561 [==============================] - 0s - loss: 0.0325 - acc: 0.9977     \n",
      "Epoch 3/10\n",
      "2561/2561 [==============================] - 0s - loss: 0.0253 - acc: 0.9977     \n",
      "Epoch 4/10\n",
      "2561/2561 [==============================] - 0s - loss: 0.0201 - acc: 0.9977        \n",
      "Epoch 5/10\n",
      "2561/2561 [==============================] - 0s - loss: 0.0164 - acc: 0.9977        \n",
      "Epoch 6/10\n",
      "2561/2561 [==============================] - 0s - loss: 0.0152 - acc: 0.9977        \n",
      "Epoch 7/10\n",
      "2561/2561 [==============================] - 0s - loss: 0.0147 - acc: 0.9977        \n",
      "Epoch 8/10\n",
      "2561/2561 [==============================] - 0s - loss: 0.0143 - acc: 0.9977        \n",
      "Epoch 9/10\n",
      "2561/2561 [==============================] - 0s - loss: 0.0140 - acc: 0.9977        \n",
      "Epoch 10/10\n",
      "2561/2561 [==============================] - 0s - loss: 0.0137 - acc: 0.9992        \n",
      "Age 2, cval is=1.000000\n",
      "settint output mask\n",
      "Epoch 1/10\n",
      "957/957 [==============================] - 0s - loss: 0.3598 - acc: 0.9352     \n",
      "Epoch 2/10\n",
      "957/957 [==============================] - 0s - loss: 0.1746 - acc: 0.9875     \n",
      "Epoch 3/10\n",
      "957/957 [==============================] - 0s - loss: 0.1700 - acc: 0.9896         \n",
      "Epoch 4/10\n",
      "957/957 [==============================] - 0s - loss: 0.1700 - acc: 0.9896     \n",
      "Epoch 5/10\n",
      "957/957 [==============================] - 0s - loss: 0.1700 - acc: 0.9896     \n",
      "Epoch 6/10\n",
      "957/957 [==============================] - 0s - loss: 0.1697 - acc: 0.9896     \n",
      "Epoch 7/10\n",
      "957/957 [==============================] - 0s - loss: 0.1696 - acc: 0.9896     \n",
      "Epoch 8/10\n",
      "957/957 [==============================] - 0s - loss: 0.1695 - acc: 0.9896         \n",
      "Epoch 9/10\n",
      "957/957 [==============================] - 0s - loss: 0.1693 - acc: 0.9896     \n",
      "Epoch 10/10\n",
      "957/957 [==============================] - 0s - loss: 0.1692 - acc: 0.9896         \n",
      "Age 3, cval is=1.000000\n",
      "settint output mask\n",
      "Epoch 1/10\n",
      "44/44 [==============================] - 0s - loss: 0.6931 - acc: 0.8182\n",
      "Epoch 2/10\n",
      "44/44 [==============================] - 0s - loss: 1.3979 - acc: 0.8182\n",
      "Epoch 3/10\n",
      "44/44 [==============================] - 0s - loss: 1.5703 - acc: 0.8182\n",
      "Epoch 4/10\n",
      "44/44 [==============================] - 0s - loss: 1.6409 - acc: 0.8409\n",
      "Epoch 5/10\n",
      "44/44 [==============================] - 0s - loss: 1.6168 - acc: 0.8409\n",
      "Epoch 6/10\n",
      "44/44 [==============================] - 0s - loss: 1.5229 - acc: 0.8409\n",
      "Epoch 7/10\n",
      "44/44 [==============================] - 0s - loss: 1.3899 - acc: 0.8409\n",
      "Epoch 8/10\n",
      "44/44 [==============================] - 0s - loss: 1.2487 - acc: 0.8864\n",
      "Epoch 9/10\n",
      "44/44 [==============================] - 0s - loss: 1.0093 - acc: 0.8864\n",
      "Epoch 10/10\n",
      "44/44 [==============================] - 0s - loss: 0.9468 - acc: 0.7955\n",
      "Age 4, cval is=1.000000\n",
      "settint output mask\n",
      "Epoch 1/10\n",
      "1359/1359 [==============================] - 0s - loss: 3.6939 - acc: 0.7380     \n",
      "Epoch 2/10\n",
      "1359/1359 [==============================] - 0s - loss: 3.7617 - acc: 0.7660     \n",
      "Epoch 3/10\n",
      "1359/1359 [==============================] - 0s - loss: 3.7607 - acc: 0.7660     \n",
      "Epoch 4/10\n",
      "1359/1359 [==============================] - 0s - loss: 3.7598 - acc: 0.7667     \n",
      "Epoch 5/10\n",
      "1359/1359 [==============================] - 0s - loss: 3.7601 - acc: 0.7667     \n",
      "Epoch 6/10\n",
      "1359/1359 [==============================] - 0s - loss: 4.4836 - acc: 0.7182     \n",
      "Epoch 7/10\n",
      "1359/1359 [==============================] - 0s - loss: 10.2591 - acc: 0.3635     \n",
      "Epoch 8/10\n",
      "1359/1359 [==============================] - 0s - loss: 10.2591 - acc: 0.3635     \n",
      "Epoch 9/10\n",
      "1359/1359 [==============================] - 0s - loss: 10.2591 - acc: 0.3635    \n",
      "Epoch 10/10\n",
      "1359/1359 [==============================] - 0s - loss: 10.2591 - acc: 0.3635     \n",
      "Age 5, cval is=1.000000\n",
      "settint output mask\n",
      "Epoch 1/10\n",
      "888/888 [==============================] - 0s - loss: 0.2206 - acc: 0.8277     \n",
      "Epoch 2/10\n",
      "888/888 [==============================] - 0s - loss: 0.0136 - acc: 1.0000     \n",
      "Epoch 3/10\n",
      "888/888 [==============================] - 0s - loss: 0.0076 - acc: 1.0000     \n",
      "Epoch 4/10\n",
      "888/888 [==============================] - 0s - loss: 0.0078 - acc: 1.0000     \n",
      "Epoch 5/10\n",
      "888/888 [==============================] - 0s - loss: 0.0068 - acc: 1.0000     \n",
      "Epoch 6/10\n",
      "888/888 [==============================] - 0s - loss: 0.0061 - acc: 1.0000     \n",
      "Epoch 7/10\n",
      "888/888 [==============================] - 0s - loss: 0.0056 - acc: 1.0000     \n",
      "Epoch 8/10\n",
      "888/888 [==============================] - 0s - loss: 0.0057 - acc: 1.0000     \n",
      "Epoch 9/10\n",
      "888/888 [==============================] - 0s - loss: 0.0049 - acc: 1.0000     \n",
      "Epoch 10/10\n",
      "888/888 [==============================] - 0s - loss: 0.0051 - acc: 1.0000     \n",
      "Age 6, cval is=1.000000\n",
      "settint output mask\n",
      "Epoch 1/10\n",
      "31/31 [==============================] - 0s - loss: 0.6931 - acc: 0.6129\n",
      "Epoch 2/10\n",
      "31/31 [==============================] - 0s - loss: 1.0157 - acc: 0.6774\n",
      "Epoch 3/10\n",
      "31/31 [==============================] - 0s - loss: 1.0323 - acc: 0.7097\n",
      "Epoch 4/10\n",
      "31/31 [==============================] - 0s - loss: 1.1210 - acc: 0.7097\n",
      "Epoch 5/10\n",
      "31/31 [==============================] - 0s - loss: 1.1669 - acc: 0.7419\n",
      "Epoch 6/10\n",
      "31/31 [==============================] - 0s - loss: 1.0770 - acc: 0.7419\n",
      "Epoch 7/10\n",
      "31/31 [==============================] - 0s - loss: 0.9423 - acc: 0.7742\n",
      "Epoch 8/10\n",
      "31/31 [==============================] - 0s - loss: 1.8795 - acc: 0.7097\n",
      "Epoch 9/10\n",
      "31/31 [==============================] - 0s - loss: 1.8150 - acc: 0.7097\n",
      "Epoch 10/10\n",
      "31/31 [==============================] - 0s - loss: 1.7371 - acc: 0.7742\n",
      "Age 7, cval is=1.000000\n",
      "settint output mask\n",
      "Epoch 1/10\n",
      "31720/31720 [==============================] - 0s - loss: 0.0230 - acc: 0.9930     \n",
      "Epoch 2/10\n",
      "31720/31720 [==============================] - 0s - loss: 0.0063 - acc: 0.9986     \n",
      "Epoch 3/10\n",
      "31720/31720 [==============================] - 0s - loss: 0.0041 - acc: 0.9993     \n",
      "Epoch 4/10\n",
      "31720/31720 [==============================] - 0s - loss: 0.0027 - acc: 0.9998     \n",
      "Epoch 5/10\n",
      "31720/31720 [==============================] - 0s - loss: 0.0023 - acc: 0.9998     \n",
      "Epoch 6/10\n",
      "31720/31720 [==============================] - 0s - loss: 0.0024 - acc: 0.9996     \n",
      "Epoch 7/10\n",
      "31720/31720 [==============================] - 0s - loss: 0.0023 - acc: 0.9997     \n",
      "Epoch 8/10\n",
      "31720/31720 [==============================] - 0s - loss: 0.0016 - acc: 0.9999     \n",
      "Epoch 9/10\n",
      "31720/31720 [==============================] - 0s - loss: 0.0021 - acc: 0.9997     \n",
      "Epoch 10/10\n",
      "31720/31720 [==============================] - 0s - loss: 0.0014 - acc: 0.9999     \n",
      "Age 8, cval is=1.000000\n",
      "settint output mask\n",
      "Epoch 1/10\n",
      "51700/51700 [==============================] - 1s - loss: 0.0026 - acc: 0.9999     \n",
      "Epoch 2/10\n",
      "51700/51700 [==============================] - 1s - loss: 0.0014 - acc: 0.9999     \n",
      "Epoch 3/10\n",
      "51700/51700 [==============================] - 1s - loss: 0.0013 - acc: 0.9999      \n",
      "Epoch 4/10\n",
      "51700/51700 [==============================] - 1s - loss: 0.0012 - acc: 0.9999     \n",
      "Epoch 5/10\n",
      "51700/51700 [==============================] - 1s - loss: 0.0011 - acc: 0.9999      \n",
      "Epoch 6/10\n",
      "51700/51700 [==============================] - 1s - loss: 0.0011 - acc: 0.9999       \n",
      "Epoch 7/10\n",
      "51700/51700 [==============================] - 1s - loss: 0.0010 - acc: 0.9999      \n",
      "Epoch 8/10\n",
      "51700/51700 [==============================] - 1s - loss: 0.0010 - acc: 0.9999     \n",
      "Epoch 9/10\n",
      "51700/51700 [==============================] - 1s - loss: 9.9072e-04 - acc: 0.9999 \n",
      "Epoch 10/10\n",
      "51700/51700 [==============================] - 1s - loss: 9.7535e-04 - acc: 0.9999     \n"
     ]
    },
    {
     "name": "stderr",
     "output_type": "stream",
     "text": [
      "100%|██████████| 1/1 [00:34<00:00, 34.83s/it]\n"
     ]
    }
   ],
   "source": [
    "#%%capture\n",
    "\n",
    "recompute_data = True\n",
    "\n",
    "if recompute_data:\n",
    "    data,model_weights_save,imp_par = run_fits(cvals, training_datasets, validation_datasets, eval_on_train_set=False, nstats=n_stats)\n",
    "    utils.save_zipped_pickle(data, datafile_name)"
   ]
  },
  {
   "cell_type": "code",
   "execution_count": 54,
   "metadata": {
    "scrolled": true
   },
   "outputs": [
    {
     "name": "stdout",
     "output_type": "stream",
     "text": [
      "_________________________________________________________________\n",
      "Layer (type)                 Output Shape              Param #   \n",
      "=================================================================\n",
      "dense_9 (Dense)              (None, 41)                1722      \n",
      "_________________________________________________________________\n",
      "dense_10 (Dense)             (None, 30)                1260      \n",
      "_________________________________________________________________\n",
      "dense_11 (Dense)             (None, 22)                682       \n",
      "=================================================================\n",
      "Total params: 3,664\n",
      "Trainable params: 3,664\n",
      "Non-trainable params: 0\n",
      "_________________________________________________________________\n",
      "None\n",
      "(41, 41)\n",
      "(41,)\n",
      "(41, 30)\n",
      "(30,)\n",
      "(30, 22)\n",
      "(22,)\n"
     ]
    }
   ],
   "source": [
    "import h5py\n",
    "print(model.summary())\n",
    "model.save_weights('saved_weights.h5') #This file cannot be opend normaly to view the weghts. It can be loaded through load_model() or can be opend via hdf5 viewer\n",
    "\n",
    "#Shape of the array containg model weights\n",
    "a_list = model.get_weights()\n",
    "for i in range(len(a_list)):\n",
    "    print((np.array(a_list[i])).shape)\n",
    "\n",
    "#a_list[0][0][0] = a_list[0][0][0]+0.00001\n",
    "#print(a_list[0][0][0])\n",
    "#model.set_weights(a_list)\n",
    "\n",
    "#from keras.utils.vis_utils import plot_model\n",
    "#import pydot\n",
    "#plot_model(model, to_file='model_plot.png', show_shapes=True, show_layer_names=True)"
   ]
  },
  {
   "cell_type": "code",
   "execution_count": 35,
   "metadata": {},
   "outputs": [
    {
     "name": "stdout",
     "output_type": "stream",
     "text": [
      "[1.0]\n"
     ]
    }
   ],
   "source": [
    "data = utils.load_zipped_pickle(datafile_name)\n",
    "print(cvals)"
   ]
  },
  {
   "cell_type": "code",
   "execution_count": 36,
   "metadata": {},
   "outputs": [
    {
     "name": "stdout",
     "output_type": "stream",
     "text": [
      "(-5.0, 0.0)\n"
     ]
    }
   ],
   "source": [
    "import matplotlib.colors as colors\n",
    "cmap = plt.get_cmap('cool') \n",
    "cNorm  = colors.Normalize(vmin=-5, vmax=np.log(np.max(list(data['mean'].keys()))))\n",
    "scalarMap = cmx.ScalarMappable(norm=cNorm, cmap=cmap)\n",
    "print(scalarMap.get_clim())"
   ]
  },
  {
   "cell_type": "code",
   "execution_count": 37,
   "metadata": {
    "scrolled": false
   },
   "outputs": [
    {
     "name": "stderr",
     "output_type": "stream",
     "text": [
      "No handles with labels found to put in legend.\n",
      "No handles with labels found to put in legend.\n",
      "No handles with labels found to put in legend.\n",
      "No handles with labels found to put in legend.\n",
      "No handles with labels found to put in legend.\n",
      "No handles with labels found to put in legend.\n",
      "No handles with labels found to put in legend.\n",
      "No handles with labels found to put in legend.\n",
      "No handles with labels found to put in legend.\n"
     ]
    },
    {
     "data": {
      "image/png": "[encoded data removed]",
      "text/plain": [
       "<Figure size 1008x180 with 10 Axes>"
      ]
     },
     "metadata": {},
     "output_type": "display_data"
    }
   ],
   "source": [
    "figure(figsize=(14, 2.5))\n",
    "axs = [subplot(1,n_tasks+1,1)]#, None, None]\n",
    "for i in range(1, n_tasks + 1):\n",
    "    axs.append(subplot(1, n_tasks+1, i+1, sharex=axs[0], sharey=axs[0]))\n",
    "    \n",
    "keys = list(data['mean'].keys())\n",
    "sorted_keys = np.sort(keys)\n",
    "\n",
    "for cval in sorted_keys:\n",
    "    mean_vals = data['mean'][cval]\n",
    "    std_vals = data['std'][cval]\n",
    "    for j in range(n_tasks):\n",
    "        colorVal = scalarMap.to_rgba(np.log(cval))\n",
    "        # axs[j].plot(evals[:, j], c=colorVal)\n",
    "        axs[j].errorbar(range(n_tasks), mean_vals[:, j], yerr=std_vals[:, j]/np.sqrt(n_stats), c=colorVal)\n",
    "        axs[j].set_xticks(range(0,n_tasks))\n",
    "        axs[j].set_yticks([0,0.2,0.4,0.6,0.8,1])\n",
    "        if j == 0:\n",
    "            axs[j].set_xlabel('Trained Tasks') \n",
    "            axs[j].set_ylabel('Accuracy(*100%)') \n",
    "    label = \"c=%g\"%cval\n",
    "    average = mean_vals.mean(1)  #Taking the average of cross validation accuracies accross all tasks after learning each task\n",
    "    axs[-1].plot(average, c=colorVal, label=label)\n",
    "    \n",
    "for i, ax in enumerate(axs):\n",
    "    ax.legend(loc='best')\n",
    "    ax.set_title((['task %d'%j for j in range(n_tasks)] + ['average'])[i])\n",
    "    \n",
    "ylim(0,1)\n",
    "gcf().tight_layout()\n",
    "sns.despine()\n",
    "plt.savefig('2taskprogressive-NSL-KDD.pdf')"
   ]
  },
  {
   "cell_type": "code",
   "execution_count": 38,
   "metadata": {},
   "outputs": [
    {
     "name": "stdout",
     "output_type": "stream",
     "text": [
      "[1.         1.         1.         0.78571429 0.78571429 0.78571429\n",
      " 0.78571429 0.78571429 0.78571429] [0. 0. 0. 0. 0. 0. 0. 0. 0.]\n",
      "[0.00503778 0.99832074 0.99832074 0.99832074 0.99832074 0.99832074\n",
      " 0.99076406 0.98656591 0.98656591] [0. 0. 0. 0. 0. 0. 0. 0. 0.]\n",
      "[0.91086957 0.91086957 0.76086957 0.08913043 0.08913043 0.08913043\n",
      " 0.08913043 0.08913043 0.08913043] [0. 0. 0. 0. 0. 0. 0. 0. 0.]\n",
      "[0.82352941 0.82352941 0.82352941 0.23529412 0.23529412 0.23529412\n",
      " 0.23529412 0.23529412 0.23529412] [0. 0. 0. 0. 0. 0. 0. 0. 0.]\n",
      "[0.35064935 0.35064935 0.35064935 0.35064935 0.35064935 0.35064935\n",
      " 0.35064935 0.35064935 0.35064935] [0. 0. 0. 0. 0. 0. 0. 0. 0.]\n",
      "[0.21446384 0.21446384 0.21446384 0.21446384 0.21446384 1.\n",
      " 1.         1.         1.        ] [0. 0. 0. 0. 0. 0. 0. 0. 0.]\n",
      "[0.54545455 0.54545455 0.54545455 0.54545455 0.54545455 0.54545455\n",
      " 0.54545455 0.54545455 0.54545455] [0. 0. 0. 0. 0. 0. 0. 0. 0.]\n",
      "[0.96812166 0.96812166 0.96812166 0.96812166 0.96812166 0.96812166\n",
      " 0.96812166 0.99980911 0.99980911] [0. 0. 0. 0. 0. 0. 0. 0. 0.]\n",
      "[0.99992113 0.99992113 0.99992113 0.99992113 0.99992113 0.99992113\n",
      " 0.99992113 0.99992113 0.99992113] [0. 0. 0. 0. 0. 0. 0. 0. 0.]\n"
     ]
    }
   ],
   "source": [
    "for cval in sorted_keys:\n",
    "    mean_vals = data['mean'][cval]\n",
    "    std_vals = data['std'][cval]\n",
    "    for j in range(n_tasks):\n",
    "       print(mean_vals[:, j],std_vals[:, j]/np.sqrt(n_stats))"
   ]
  },
  {
   "cell_type": "code",
   "execution_count": 39,
   "metadata": {
    "collapsed": true
   },
   "outputs": [],
   "source": [
    "plt.rc('text', usetex=False)\n",
    "plt.rc('xtick', labelsize=8)\n",
    "plt.rc('ytick', labelsize=8)\n",
    "plt.rc('axes', labelsize=8)\n",
    "\n",
    "def simple_axis(ax):\n",
    "    ax.spines['top'].set_visible(False)\n",
    "    ax.spines['right'].set_visible(False)\n",
    "    ax.get_xaxis().tick_bottom()\n",
    "    ax.get_yaxis().tick_left()\n"
   ]
  },
  {
   "cell_type": "code",
   "execution_count": 40,
   "metadata": {},
   "outputs": [
    {
     "name": "stdout",
     "output_type": "stream",
     "text": [
      "[1.0, 0.9991603694374476, 0.9197301013640956, 0.527114894254712, 0.49182178553363975, 0.5765181546113665, 0.571000971151396, 0.6240772196225344, 0.6658376540452096]\n"
     ]
    },
    {
     "data": {
      "image/png": "[encoded data removed]",
      "text/plain": [
       "<Figure size 237.6x180 with 1 Axes>"
      ]
     },
     "metadata": {},
     "output_type": "display_data"
    }
   ],
   "source": [
    "#Fractional Correctness = Average of cross validation accuracies of learned tasks only after training each task \n",
    "fig = plt.figure(figsize=(3.3,2.5))\n",
    "ax = plt.subplot(111)\n",
    "\n",
    "for cval in sorted_keys:\n",
    "    mean_stuff = []\n",
    "    std_stuff = []\n",
    "    for i in range(len(data['mean'][cval])):\n",
    "        mean_stuff.append(data['mean'][cval][i][:i+1].mean())\n",
    "        std_stuff.append(np.sqrt((data['std'][cval][i][:i+1]**2).sum())/(n_stats*np.sqrt(n_stats)))\n",
    "    # plot(range(1,n_tasks+1), mean_stuff, 'o-', label=\"c=%g\"%cval)\n",
    "    errorbar(range(0,n_tasks), mean_stuff, yerr=std_stuff, fmt='o-', label=\"c=%g\"%cval)\n",
    "        \n",
    "axhline(data['mean'][cval][0][0], linestyle='--', color='k')\n",
    "xlabel('Number of tasks')\n",
    "ylabel('Fraction correct')\n",
    "legend(loc='best')\n",
    "xlim(0, n_tasks)\n",
    "ylim(0.2, 1.02)\n",
    "# grid('on')\n",
    "# sns.despine()\n",
    "print(mean_stuff)\n",
    "simple_axis(ax)\n",
    "gcf().tight_layout()\n",
    "plt.savefig('Normalcase_fractional_correct_NSLKDD.pdf')"
   ]
  },
  {
   "cell_type": "code",
   "execution_count": 41,
   "metadata": {},
   "outputs": [
    {
     "name": "stdout",
     "output_type": "stream",
     "text": [
      "Rank of the Autocorrelation Matrix for task= 0 is : 29\n",
      "Rank of the Autocorrelation Matrix for task= 1 is : 18\n",
      "Rank of the Autocorrelation Matrix for task= 2 is : 24\n",
      "Rank of the Autocorrelation Matrix for task= 3 is : 21\n",
      "Rank of the Autocorrelation Matrix for task= 4 is : 15\n",
      "Rank of the Autocorrelation Matrix for task= 5 is : 22\n",
      "Rank of the Autocorrelation Matrix for task= 6 is : 21\n",
      "Rank of the Autocorrelation Matrix for task= 7 is : 16\n",
      "Rank of the Autocorrelation Matrix for task= 8 is : 29\n"
     ]
    }
   ],
   "source": [
    "import pandas as pd\n",
    "from numpy.linalg import matrix_rank\n",
    "import math\n",
    "corr_matrix = []\n",
    "corr_row = []\n",
    "Rank_corr_matrix=[]\n",
    "for j in range(n_tasks):\n",
    "    df = pd.DataFrame(training_datasets[j][0])\n",
    "    correlation_matrix = df.corr().values\n",
    "    correlation_matrix = np.nan_to_num(correlation_matrix)\n",
    "    for k in range(len(correlation_matrix)):\n",
    "        for i in range(len(correlation_matrix)):\n",
    "            corr_elem = (math.ceil(correlation_matrix[k][i]*1e10)/1e10)\n",
    "            corr_row.append(np.around(corr_elem))\n",
    "        corr_matrix.append(corr_row)\n",
    "        corr_row = []\n",
    "    rank_corr_matrix=np.linalg.matrix_rank(np.asarray(corr_matrix))\n",
    "    Rank_corr_matrix.append(rank_corr_matrix)\n",
    "    print('Rank of the Autocorrelation Matrix for task=',j,'is :',rank_corr_matrix)\n",
    "    corr_matrix = []"
   ]
  },
  {
   "cell_type": "code",
   "execution_count": 42,
   "metadata": {},
   "outputs": [
    {
     "data": {
      "text/plain": [
       "(9, 90)"
      ]
     },
     "execution_count": 42,
     "metadata": {},
     "output_type": "execute_result"
    }
   ],
   "source": [
    "len(model_weights_save),len(save_weights_epoch)"
   ]
  },
  {
   "cell_type": "code",
   "execution_count": 43,
   "metadata": {},
   "outputs": [
    {
     "name": "stdout",
     "output_type": "stream",
     "text": [
      "Rank of the Hessian Matrix after task= 0 is : 510\n",
      "Rank of the Hessian Matrix after task= 1 is : 2693\n",
      "Rank of the Hessian Matrix after task= 2 is : 2942\n",
      "Rank of the Hessian Matrix after task= 3 is : 3175\n",
      "Rank of the Hessian Matrix after task= 4 is : 3238\n",
      "Rank of the Hessian Matrix after task= 5 is : 3279\n",
      "Rank of the Hessian Matrix after task= 6 is : 3330\n",
      "Rank of the Hessian Matrix after task= 7 is : 3392\n",
      "Rank of the Hessian Matrix after task= 8 is : 3472\n"
     ]
    }
   ],
   "source": [
    "#Weights Pattern after training each task\n",
    "Flatten_weights=[]\n",
    "#Flattening the weights into a list\n",
    "def flatten(x):\n",
    "    try:\n",
    "        it = iter(x)\n",
    "    except TypeError:\n",
    "        yield x\n",
    "    else:\n",
    "        for i in it:\n",
    "            for j in flatten(i):\n",
    "                yield j\n",
    "                \n",
    "for i in range(len(model_weights_save)):\n",
    "    if i == 0:\n",
    "        Flatten_weights.append(list(flatten(save_weights_epoch[epochs_per_task-2])))\n",
    "        Flatten_weights.append(list(flatten(save_weights_epoch[epochs_per_task-1])))\n",
    "    Flatten_weights.append(list(flatten(model_weights_save[i]))) \n",
    "\n",
    "Extract_model_params = [];\n",
    "#For model parameters without consolidation use val, with consolidation use val+80 \n",
    "for i in range(len(Flatten_weights)):   \n",
    "    Extract_model_params.append(Flatten_weights[i])\n",
    "    \n",
    "gradient_save=[]\n",
    "for i in range(1,len(Extract_model_params)):\n",
    "    if i == 2:\n",
    "        pass\n",
    "    else :\n",
    "        temp=list(np.asarray(Extract_model_params[i])-np.asarray(Extract_model_params[i-1]))\n",
    "        gradient = [j/0.001 for j in temp]\n",
    "        gradient_save.append(gradient)\n",
    "    \n",
    "#Creating the Hessian matrix from the gradients\n",
    "import math\n",
    "Hessian_matrix = []\n",
    "Hessian_row = []\n",
    "Rank_Hessian_matrix = []\n",
    "for k in range(len(gradient_save)):\n",
    "    for i in range(len(gradient_save[k])):\n",
    "        partial_deriv_1 = (math.ceil(gradient_save[k][i]*1e10)/1e10)\n",
    "        for j in range(len(gradient_save[k])):\n",
    "            partial_deriv_2 = (math.ceil(gradient_save[k][j]*1e10)/1e10)\n",
    "            Hessian_row.append(np.around(partial_deriv_1*partial_deriv_2))\n",
    "        Hessian_matrix.append(Hessian_row)\n",
    "        Hessian_row = []\n",
    "    rank_Hessian_matrix = np.linalg.matrix_rank(np.asarray(Hessian_matrix))\n",
    "    Rank_Hessian_matrix.append(rank_Hessian_matrix)\n",
    "    print('Rank of the Hessian Matrix after task=',k,'is :',rank_Hessian_matrix)"
   ]
  },
  {
   "cell_type": "code",
   "execution_count": 44,
   "metadata": {},
   "outputs": [
    {
     "name": "stderr",
     "output_type": "stream",
     "text": [
      "/usr/local/lib/python3.5/dist-packages/ipykernel_launcher.py:5: DeprecationWarning: Calling np.sum(generator) is deprecated, and in the future will give a different result. Use np.sum(np.from_iter(generator)) or the python sum builtin instead.\n",
      "  \"\"\"\n",
      "/usr/local/lib/python3.5/dist-packages/ipykernel_launcher.py:20: DeprecationWarning: Calling np.sum(generator) is deprecated, and in the future will give a different result. Use np.sum(np.from_iter(generator)) or the python sum builtin instead.\n"
     ]
    },
    {
     "name": "stdout",
     "output_type": "stream",
     "text": [
      "Eucledian Parameter shift after task 1 : 0.03723597654327982\n",
      "Eucledian Parameter shift after task 2 : 0.0\n",
      "Eucledian Parameter shift after task 3 : 2.2425232823171686\n",
      "Eucledian Parameter shift after task 4 : 1.2511803115675713\n",
      "Eucledian Parameter shift after task 5 : 1.0275412286612127\n",
      "Eucledian Parameter shift after task 6 : 0.836811011983417\n",
      "Eucledian Parameter shift after task 7 : 0.8247598133331262\n",
      "Eucledian Parameter shift after task 8 : 0.49098704763945256\n",
      "Cosine Parameter shift after task 1 : 1.0\n",
      "Cosine Parameter shift after task 2 : 1.0\n",
      "Cosine Parameter shift after task 3 : 0.943\n",
      "Cosine Parameter shift after task 4 : 0.983\n",
      "Cosine Parameter shift after task 5 : 0.989\n",
      "Cosine Parameter shift after task 6 : 0.992\n",
      "Cosine Parameter shift after task 7 : 0.993\n",
      "Cosine Parameter shift after task 8 : 0.997\n",
      "Jaccard Parameter shift after task 1 : 0.19658994032395566\n",
      "Jaccard Parameter shift after task 2 : 1.0\n",
      "Jaccard Parameter shift after task 3 : 0.13750600288138307\n",
      "Jaccard Parameter shift after task 4 : 0.14023816985271076\n",
      "Jaccard Parameter shift after task 5 : 0.13293741434444953\n",
      "Jaccard Parameter shift after task 6 : 0.25970149253731345\n",
      "Jaccard Parameter shift after task 7 : 0.22579113924050634\n",
      "Jaccard Parameter shift after task 8 : 0.2527367920038077\n",
      "Heuristic Parameter shift after task 1 : 0.26373626373626374\n",
      "Heuristic Parameter shift after task 2 : 1.0\n",
      "Heuristic Parameter shift after task 3 : 0.3525641025641026\n",
      "Heuristic Parameter shift after task 4 : 0.3608058608058608\n",
      "Heuristic Parameter shift after task 5 : 0.33791208791208793\n",
      "Heuristic Parameter shift after task 6 : 0.4793956043956044\n",
      "Heuristic Parameter shift after task 7 : 0.42857142857142855\n",
      "Heuristic Parameter shift after task 8 : 0.4500915750915751\n"
     ]
    }
   ],
   "source": [
    "#Weights Pattern after training each task\n",
    "from math import*\n",
    "#1. Euclidean distance\n",
    "def euclidean_distance(x,y):\n",
    "    return sqrt(sum(pow(a-b,2) for a, b in zip(x, y)))\n",
    "#2. Manhattan Distance\n",
    "def manhattan_distance(x,y):\n",
    "    return sum(abs(a-b) for a,b in zip(x,y))\n",
    "#3.  Minkowski distance \n",
    "from decimal import Decimal\n",
    "def nth_root(value, n_root):\n",
    "    root_value = 1/float(n_root)\n",
    "    return round (Decimal(value) ** Decimal(root_value),3)\n",
    "def minkowski_distance(x,y,p_value):\n",
    "    return nth_root(sum(pow(abs(a-b),p_value) for a,b in zip(x, y)),p_value)\n",
    "#4. Cosine Similarity\n",
    "def square_rooted(x):\n",
    "    return round(sqrt(sum([a*a for a in x])),3)\n",
    "def cosine_similarity(x,y):\n",
    "    numerator = sum(a*b for a,b in zip(x,y))\n",
    "    denominator = square_rooted(x)*square_rooted(y)\n",
    "    return round(numerator/float(denominator),3)\n",
    "#5. Jaccard similarity\n",
    "def jaccard_similarity(x,y):\n",
    "    intersection_cardinality = len(set.intersection(*[set(x), set(y)]))\n",
    "    union_cardinality = len(set.union(*[set(x), set(y)]))\n",
    "    return intersection_cardinality/float(union_cardinality)\n",
    "#6. Using Heuristic    \n",
    "import difflib \n",
    "\n",
    "for i in [0,1,2,3,4,5,6,7]:\n",
    "    print(\"Eucledian Parameter shift after task {0} :\".format(i+1),euclidean_distance(Extract_model_params[i],Extract_model_params[i+1]))\n",
    "for i in [0,1,2,3,4,5,6,7]:\n",
    "    print(\"Cosine Parameter shift after task {0} :\".format(i+1),cosine_similarity(Extract_model_params[i],Extract_model_params[i+1]))\n",
    "for i in [0,1,2,3,4,5,6,7]:\n",
    "    print(\"Jaccard Parameter shift after task {0} :\".format(i+1),jaccard_similarity(Extract_model_params[i],Extract_model_params[i+1]))\n",
    "for i in [0,1,2,3,4,5,6,7]:\n",
    "    print(\"Heuristic Parameter shift after task {0} :\".format(i+1),difflib.SequenceMatcher(None,Extract_model_params[i],Extract_model_params[i+1]).ratio())"
   ]
  },
  {
   "cell_type": "code",
   "execution_count": 45,
   "metadata": {},
   "outputs": [
    {
     "name": "stdout",
     "output_type": "stream",
     "text": [
      "10\n"
     ]
    }
   ],
   "source": [
    "#Counting the number of changed parameters\n",
    "changed_model_parameters=[]\n",
    "for i in range(1,len(Extract_model_params)):\n",
    "    temp=[]\n",
    "    for j,k in zip(Extract_model_params[i],Extract_model_params[i-1]):\n",
    "        temp.append(abs(i-j))\n",
    "    changed_model_parameters.append(temp)\n",
    "print(len(changed_model_parameters))\n",
    "\n",
    "import csv\n",
    "#Save the model parameters in text file\n",
    "with open('temp', 'w') as myfile:\n",
    "    wr = csv.writer(myfile, quoting=csv.QUOTE_ALL)\n",
    "    wr.writerow(Extract_model_params)"
   ]
  },
  {
   "cell_type": "code",
   "execution_count": 46,
   "metadata": {},
   "outputs": [
    {
     "name": "stdout",
     "output_type": "stream",
     "text": [
      "-----After learning 2 task-----\n",
      "1e-05 ----> 0\n",
      "0.0001 ----> 0\n",
      "0.001 ----> 0\n",
      "0.01 ----> 0\n",
      "0.1 ----> 0\n",
      "-----After learning 3 task-----\n",
      "1e-05 ----> 0\n",
      "0.0001 ----> 0\n",
      "0.001 ----> 0\n",
      "0.01 ----> 0\n",
      "0.1 ----> 0\n",
      "-----After learning 4 task-----\n",
      "1e-05 ----> 0\n",
      "0.0001 ----> 0\n",
      "0.001 ----> 0\n",
      "0.01 ----> 0\n",
      "0.1 ----> 0\n",
      "-----After learning 5 task-----\n",
      "1e-05 ----> 0\n",
      "0.0001 ----> 0\n"
     ]
    },
    {
     "name": "stderr",
     "output_type": "stream",
     "text": [
      "/usr/local/lib/python3.5/dist-packages/ipykernel_launcher.py:5: DeprecationWarning: Calling np.sum(generator) is deprecated, and in the future will give a different result. Use np.sum(np.from_iter(generator)) or the python sum builtin instead.\n",
      "  \"\"\"\n"
     ]
    },
    {
     "name": "stdout",
     "output_type": "stream",
     "text": [
      "0.001 ----> 0\n",
      "0.01 ----> 0\n",
      "0.1 ----> 0\n",
      "-----After learning 6 task-----\n",
      "1e-05 ----> 0\n",
      "0.0001 ----> 0\n",
      "0.001 ----> 0\n",
      "0.01 ----> 0\n",
      "0.1 ----> 0\n",
      "-----After learning 7 task-----\n",
      "1e-05 ----> 0\n",
      "0.0001 ----> 0\n",
      "0.001 ----> 0\n",
      "0.01 ----> 0\n",
      "0.1 ----> 0\n",
      "-----After learning 8 task-----\n",
      "1e-05 ----> 0\n",
      "0.0001 ----> 0\n",
      "0.001 ----> 0\n",
      "0.01 ----> 0\n",
      "0.1 ----> 0\n",
      "-----After learning 9 task-----\n",
      "1e-05 ----> 0\n",
      "0.0001 ----> 0\n",
      "0.001 ----> 0\n",
      "0.01 ----> 0\n",
      "0.1 ----> 0\n",
      "-----After learning 10 task-----\n",
      "1e-05 ----> 0\n",
      "0.0001 ----> 0\n",
      "0.001 ----> 0\n",
      "0.01 ----> 0\n",
      "0.1 ----> 0\n",
      "-----After learning 11 task-----\n",
      "1e-05 ----> 0\n",
      "0.0001 ----> 0\n",
      "0.001 ----> 0\n",
      "0.01 ----> 0\n",
      "0.1 ----> 0\n"
     ]
    }
   ],
   "source": [
    "#Number of parameters unchanged within the thresold. Checked for five threshold values as [1e-5, 1e-4, 1e-3, 1e-2, 1e-1].\n",
    "for i in range(len(changed_model_parameters)):\n",
    "    print('-----After learning',i+2,'task-----')\n",
    "    for j in [1e-5, 1e-4, 1e-3, 1e-2, 1e-1]:\n",
    "        print(j,'---->',sum(k < j for k in changed_model_parameters[i]))"
   ]
  },
  {
   "cell_type": "code",
   "execution_count": null,
   "metadata": {
    "collapsed": true
   },
   "outputs": [],
   "source": []
  }
 ],
 "metadata": {
  "kernelspec": {
   "display_name": "Python 2",
   "language": "python",
   "name": "python2"
  },
  "language_info": {
   "codemirror_mode": {
    "name": "ipython",
    "version": 2
   },
   "file_extension": ".py",
   "mimetype": "text/x-python",
   "name": "python",
   "nbconvert_exporter": "python",
   "pygments_lexer": "ipython2",
   "version": "2.7.14"
  }
 },
 "nbformat": 4,
 "nbformat_minor": 2
}
